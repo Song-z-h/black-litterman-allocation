{
  "nbformat": 4,
  "nbformat_minor": 0,
  "metadata": {
    "colab": {
      "provenance": [],
      "authorship_tag": "ABX9TyN3rtT92bOmXqQ1u+pvlpnB",
      "include_colab_link": true
    },
    "kernelspec": {
      "name": "python3",
      "display_name": "Python 3"
    },
    "language_info": {
      "name": "python"
    }
  },
  "cells": [
    {
      "cell_type": "markdown",
      "metadata": {
        "id": "view-in-github",
        "colab_type": "text"
      },
      "source": [
        "<a href=\"https://colab.research.google.com/github/Song-z-h/black-litterman-allocation/blob/master/bl_ricerca_operativa_song.ipynb\" target=\"_parent\"><img src=\"https://colab.research.google.com/assets/colab-badge.svg\" alt=\"Open In Colab\"/></a>"
      ]
    },
    {
      "cell_type": "markdown",
      "source": [
        "# Black litterman portfolio Allocation  \n",
        "This model is an example of using the [Black-litterman model](https://pyportfolioopt.readthedocs.io/en/latest/BlackLitterman.html) to calculate the posterior expected return, and then solve the quadratic equition using Gurobi solver. You can find a more specified problem setting [here](https://www.notion.so/Operational-Research-Project-1658df813e6448f791aa0cf0ffc28733?pvs=4)\n",
        "\n",
        "A simple context is that we have N assets to invest in, we have 1 dollar, we want to know the fraction to be invested into each of the N assets, in order to maximize our future returns. "
      ],
      "metadata": {
        "id": "jvPGVAh322V_"
      }
    },
    {
      "cell_type": "markdown",
      "source": [
        "## Install the libraries. "
      ],
      "metadata": {
        "id": "-MKe7Cay9PeX"
      }
    },
    {
      "cell_type": "code",
      "execution_count": 502,
      "metadata": {
        "colab": {
          "base_uri": "https://localhost:8080/"
        },
        "id": "qrjmyxkbqPmf",
        "outputId": "ddb47876-00d8-4f84-cd37-c3e25d93fcb2"
      },
      "outputs": [
        {
          "output_type": "stream",
          "name": "stdout",
          "text": [
            "Looking in indexes: https://pypi.org/simple, https://us-python.pkg.dev/colab-wheels/public/simple/\n",
            "Requirement already satisfied: pandas in /usr/local/lib/python3.10/dist-packages (1.5.3)\n",
            "Requirement already satisfied: numpy in /usr/local/lib/python3.10/dist-packages (1.22.4)\n",
            "Requirement already satisfied: matplotlib in /usr/local/lib/python3.10/dist-packages (3.7.1)\n",
            "Requirement already satisfied: yfinance in /usr/local/lib/python3.10/dist-packages (0.2.18)\n",
            "Requirement already satisfied: PyPortfolioOpt in /usr/local/lib/python3.10/dist-packages (1.5.5)\n",
            "Requirement already satisfied: python-dateutil>=2.8.1 in /usr/local/lib/python3.10/dist-packages (from pandas) (2.8.2)\n",
            "Requirement already satisfied: pytz>=2020.1 in /usr/local/lib/python3.10/dist-packages (from pandas) (2022.7.1)\n",
            "Requirement already satisfied: contourpy>=1.0.1 in /usr/local/lib/python3.10/dist-packages (from matplotlib) (1.0.7)\n",
            "Requirement already satisfied: cycler>=0.10 in /usr/local/lib/python3.10/dist-packages (from matplotlib) (0.11.0)\n",
            "Requirement already satisfied: fonttools>=4.22.0 in /usr/local/lib/python3.10/dist-packages (from matplotlib) (4.39.3)\n",
            "Requirement already satisfied: kiwisolver>=1.0.1 in /usr/local/lib/python3.10/dist-packages (from matplotlib) (1.4.4)\n",
            "Requirement already satisfied: packaging>=20.0 in /usr/local/lib/python3.10/dist-packages (from matplotlib) (23.1)\n",
            "Requirement already satisfied: pillow>=6.2.0 in /usr/local/lib/python3.10/dist-packages (from matplotlib) (8.4.0)\n",
            "Requirement already satisfied: pyparsing>=2.3.1 in /usr/local/lib/python3.10/dist-packages (from matplotlib) (3.0.9)\n",
            "Requirement already satisfied: requests>=2.26 in /usr/local/lib/python3.10/dist-packages (from yfinance) (2.27.1)\n",
            "Requirement already satisfied: multitasking>=0.0.7 in /usr/local/lib/python3.10/dist-packages (from yfinance) (0.0.11)\n",
            "Requirement already satisfied: lxml>=4.9.1 in /usr/local/lib/python3.10/dist-packages (from yfinance) (4.9.2)\n",
            "Requirement already satisfied: appdirs>=1.4.4 in /usr/local/lib/python3.10/dist-packages (from yfinance) (1.4.4)\n",
            "Requirement already satisfied: frozendict>=2.3.4 in /usr/local/lib/python3.10/dist-packages (from yfinance) (2.3.7)\n",
            "Requirement already satisfied: cryptography>=3.3.2 in /usr/local/lib/python3.10/dist-packages (from yfinance) (40.0.2)\n",
            "Requirement already satisfied: beautifulsoup4>=4.11.1 in /usr/local/lib/python3.10/dist-packages (from yfinance) (4.11.2)\n",
            "Requirement already satisfied: html5lib>=1.1 in /usr/local/lib/python3.10/dist-packages (from yfinance) (1.1)\n",
            "Requirement already satisfied: cvxpy<2.0.0,>=1.1.19 in /usr/local/lib/python3.10/dist-packages (from PyPortfolioOpt) (1.3.1)\n",
            "Requirement already satisfied: scipy<2.0,>=1.3 in /usr/local/lib/python3.10/dist-packages (from PyPortfolioOpt) (1.10.1)\n",
            "Requirement already satisfied: soupsieve>1.2 in /usr/local/lib/python3.10/dist-packages (from beautifulsoup4>=4.11.1->yfinance) (2.4.1)\n",
            "Requirement already satisfied: cffi>=1.12 in /usr/local/lib/python3.10/dist-packages (from cryptography>=3.3.2->yfinance) (1.15.1)\n",
            "Requirement already satisfied: osqp>=0.4.1 in /usr/local/lib/python3.10/dist-packages (from cvxpy<2.0.0,>=1.1.19->PyPortfolioOpt) (0.6.2.post8)\n",
            "Requirement already satisfied: ecos>=2 in /usr/local/lib/python3.10/dist-packages (from cvxpy<2.0.0,>=1.1.19->PyPortfolioOpt) (2.0.12)\n",
            "Requirement already satisfied: scs>=1.1.6 in /usr/local/lib/python3.10/dist-packages (from cvxpy<2.0.0,>=1.1.19->PyPortfolioOpt) (3.2.3)\n",
            "Requirement already satisfied: setuptools>65.5.1 in /usr/local/lib/python3.10/dist-packages (from cvxpy<2.0.0,>=1.1.19->PyPortfolioOpt) (67.7.2)\n",
            "Requirement already satisfied: six>=1.9 in /usr/local/lib/python3.10/dist-packages (from html5lib>=1.1->yfinance) (1.16.0)\n",
            "Requirement already satisfied: webencodings in /usr/local/lib/python3.10/dist-packages (from html5lib>=1.1->yfinance) (0.5.1)\n",
            "Requirement already satisfied: urllib3<1.27,>=1.21.1 in /usr/local/lib/python3.10/dist-packages (from requests>=2.26->yfinance) (1.26.15)\n",
            "Requirement already satisfied: certifi>=2017.4.17 in /usr/local/lib/python3.10/dist-packages (from requests>=2.26->yfinance) (2022.12.7)\n",
            "Requirement already satisfied: charset-normalizer~=2.0.0 in /usr/local/lib/python3.10/dist-packages (from requests>=2.26->yfinance) (2.0.12)\n",
            "Requirement already satisfied: idna<4,>=2.5 in /usr/local/lib/python3.10/dist-packages (from requests>=2.26->yfinance) (3.4)\n",
            "Requirement already satisfied: pycparser in /usr/local/lib/python3.10/dist-packages (from cffi>=1.12->cryptography>=3.3.2->yfinance) (2.21)\n",
            "Requirement already satisfied: qdldl in /usr/local/lib/python3.10/dist-packages (from osqp>=0.4.1->cvxpy<2.0.0,>=1.1.19->PyPortfolioOpt) (0.1.7)\n",
            "Looking in indexes: https://pypi.org/simple, https://us-python.pkg.dev/colab-wheels/public/simple/\n",
            "Requirement already satisfied: gurobipy in /usr/local/lib/python3.10/dist-packages (10.0.1)\n"
          ]
        }
      ],
      "source": [
        "!pip install pandas numpy matplotlib yfinance PyPortfolioOpt\n",
        "!pip install gurobipy  # install gurobipy, if not already installed\n",
        "\n",
        "import os\n",
        "if not os.path.isdir('data'):\n",
        "    os.system('git clone https://github.com/robertmartin8/PyPortfolioOpt.git')\n",
        "    os.chdir('PyPortfolioOpt/cookbook')"
      ]
    },
    {
      "cell_type": "code",
      "source": [
        "import numpy as np\n",
        "import pandas as pd\n",
        "import matplotlib.pyplot as plt\n",
        "import yfinance as yf"
      ],
      "metadata": {
        "id": "8wXmvSygqUMI"
      },
      "execution_count": 503,
      "outputs": []
    },
    {
      "cell_type": "markdown",
      "source": [
        "## Selecting your stocks\n",
        "You can put some of your favourite stocks in the bracket, then choose the simulation day, that means if you were investing 1 dollar y years ago, you want to know how much you would make now!"
      ],
      "metadata": {
        "id": "BBg5tR83Aka2"
      }
    },
    {
      "cell_type": "code",
      "source": [
        "tickers = [\"MSFT\", \"AMZN\", \"BAC\", \"DPZ\", \"DIS\", \"KO\", \"JPM\", \"COST\", \"SBUX\", \"AAPL\", \"TSM\", \"GS\", \"AAL\"]\n",
        "simulation_day = 365 * 5"
      ],
      "metadata": {
        "id": "0sTCaPhdqbQq"
      },
      "execution_count": 504,
      "outputs": []
    },
    {
      "cell_type": "markdown",
      "source": [
        "If you want to calculate for the future expected returns based on the data we know today, just put the simulation day to zero!"
      ],
      "metadata": {
        "id": "ET2gUVu-5dSf"
      }
    },
    {
      "cell_type": "markdown",
      "source": [
        "## Prepare the historic data\n",
        "We want to know if we only had the data until y years ago, and did the predication based on the data we knew, how the performance would be today, you can use ctrl + f9 to do all the computation using default parameters, and check out the result at end of the page."
      ],
      "metadata": {
        "id": "QUiAclhDsXUL"
      }
    },
    {
      "cell_type": "code",
      "source": [
        "ohlc = yf.download(tickers, period=\"max\")\n",
        "prices = ohlc[\"Adj Close\"]\n",
        "prices.tail()"
      ],
      "metadata": {
        "colab": {
          "base_uri": "https://localhost:8080/",
          "height": 406
        },
        "id": "J3BJRCIVqdkq",
        "outputId": "114bfe50-1181-4e18-9b09-cccf58a1c538"
      },
      "execution_count": 505,
      "outputs": [
        {
          "output_type": "stream",
          "name": "stdout",
          "text": [
            "[*********************100%***********************]  13 of 13 completed\n"
          ]
        },
        {
          "output_type": "execute_result",
          "data": {
            "text/plain": [
              "              AAL        AAPL        AMZN        BAC        COST         DIS  \\\n",
              "Date                                                                           \n",
              "2023-05-08  14.36  173.260345  105.830002  27.690001  499.059998  102.970001   \n",
              "2023-05-09  14.47  171.532745  106.620003  27.660000  500.790009  102.180000   \n",
              "2023-05-10  14.34  173.320267  110.190002  27.320000  499.660004  101.139999   \n",
              "2023-05-11  14.07  173.510010  112.180000  27.389999  501.890015   92.309998   \n",
              "2023-05-12  14.02  172.570007  110.260002  27.090000  504.070007   91.989998   \n",
              "\n",
              "                   DPZ          GS         JPM         KO        MSFT  \\\n",
              "Date                                                                    \n",
              "2023-05-08  308.940002  326.510010  137.070007  63.919998  308.649994   \n",
              "2023-05-09  308.640015  324.769989  136.410004  63.389999  307.000000   \n",
              "2023-05-10  306.890015  322.549988  136.479996  63.500000  312.309998   \n",
              "2023-05-11  306.929993  320.720001  136.050003  63.860001  310.109985   \n",
              "2023-05-12  307.579987  319.500000  134.100006  64.110001  308.970001   \n",
              "\n",
              "                  SBUX        TSM  \n",
              "Date                               \n",
              "2023-05-08  106.639008  85.540001  \n",
              "2023-05-09  106.181290  85.059998  \n",
              "2023-05-10  106.440002  84.900002  \n",
              "2023-05-11  105.629997  83.430000  \n",
              "2023-05-12  106.120003  83.430000  "
            ],
            "text/html": [
              "\n",
              "  <div id=\"df-ae8ce2f5-982e-4712-8e6a-6112e5d492bf\">\n",
              "    <div class=\"colab-df-container\">\n",
              "      <div>\n",
              "<style scoped>\n",
              "    .dataframe tbody tr th:only-of-type {\n",
              "        vertical-align: middle;\n",
              "    }\n",
              "\n",
              "    .dataframe tbody tr th {\n",
              "        vertical-align: top;\n",
              "    }\n",
              "\n",
              "    .dataframe thead th {\n",
              "        text-align: right;\n",
              "    }\n",
              "</style>\n",
              "<table border=\"1\" class=\"dataframe\">\n",
              "  <thead>\n",
              "    <tr style=\"text-align: right;\">\n",
              "      <th></th>\n",
              "      <th>AAL</th>\n",
              "      <th>AAPL</th>\n",
              "      <th>AMZN</th>\n",
              "      <th>BAC</th>\n",
              "      <th>COST</th>\n",
              "      <th>DIS</th>\n",
              "      <th>DPZ</th>\n",
              "      <th>GS</th>\n",
              "      <th>JPM</th>\n",
              "      <th>KO</th>\n",
              "      <th>MSFT</th>\n",
              "      <th>SBUX</th>\n",
              "      <th>TSM</th>\n",
              "    </tr>\n",
              "    <tr>\n",
              "      <th>Date</th>\n",
              "      <th></th>\n",
              "      <th></th>\n",
              "      <th></th>\n",
              "      <th></th>\n",
              "      <th></th>\n",
              "      <th></th>\n",
              "      <th></th>\n",
              "      <th></th>\n",
              "      <th></th>\n",
              "      <th></th>\n",
              "      <th></th>\n",
              "      <th></th>\n",
              "      <th></th>\n",
              "    </tr>\n",
              "  </thead>\n",
              "  <tbody>\n",
              "    <tr>\n",
              "      <th>2023-05-08</th>\n",
              "      <td>14.36</td>\n",
              "      <td>173.260345</td>\n",
              "      <td>105.830002</td>\n",
              "      <td>27.690001</td>\n",
              "      <td>499.059998</td>\n",
              "      <td>102.970001</td>\n",
              "      <td>308.940002</td>\n",
              "      <td>326.510010</td>\n",
              "      <td>137.070007</td>\n",
              "      <td>63.919998</td>\n",
              "      <td>308.649994</td>\n",
              "      <td>106.639008</td>\n",
              "      <td>85.540001</td>\n",
              "    </tr>\n",
              "    <tr>\n",
              "      <th>2023-05-09</th>\n",
              "      <td>14.47</td>\n",
              "      <td>171.532745</td>\n",
              "      <td>106.620003</td>\n",
              "      <td>27.660000</td>\n",
              "      <td>500.790009</td>\n",
              "      <td>102.180000</td>\n",
              "      <td>308.640015</td>\n",
              "      <td>324.769989</td>\n",
              "      <td>136.410004</td>\n",
              "      <td>63.389999</td>\n",
              "      <td>307.000000</td>\n",
              "      <td>106.181290</td>\n",
              "      <td>85.059998</td>\n",
              "    </tr>\n",
              "    <tr>\n",
              "      <th>2023-05-10</th>\n",
              "      <td>14.34</td>\n",
              "      <td>173.320267</td>\n",
              "      <td>110.190002</td>\n",
              "      <td>27.320000</td>\n",
              "      <td>499.660004</td>\n",
              "      <td>101.139999</td>\n",
              "      <td>306.890015</td>\n",
              "      <td>322.549988</td>\n",
              "      <td>136.479996</td>\n",
              "      <td>63.500000</td>\n",
              "      <td>312.309998</td>\n",
              "      <td>106.440002</td>\n",
              "      <td>84.900002</td>\n",
              "    </tr>\n",
              "    <tr>\n",
              "      <th>2023-05-11</th>\n",
              "      <td>14.07</td>\n",
              "      <td>173.510010</td>\n",
              "      <td>112.180000</td>\n",
              "      <td>27.389999</td>\n",
              "      <td>501.890015</td>\n",
              "      <td>92.309998</td>\n",
              "      <td>306.929993</td>\n",
              "      <td>320.720001</td>\n",
              "      <td>136.050003</td>\n",
              "      <td>63.860001</td>\n",
              "      <td>310.109985</td>\n",
              "      <td>105.629997</td>\n",
              "      <td>83.430000</td>\n",
              "    </tr>\n",
              "    <tr>\n",
              "      <th>2023-05-12</th>\n",
              "      <td>14.02</td>\n",
              "      <td>172.570007</td>\n",
              "      <td>110.260002</td>\n",
              "      <td>27.090000</td>\n",
              "      <td>504.070007</td>\n",
              "      <td>91.989998</td>\n",
              "      <td>307.579987</td>\n",
              "      <td>319.500000</td>\n",
              "      <td>134.100006</td>\n",
              "      <td>64.110001</td>\n",
              "      <td>308.970001</td>\n",
              "      <td>106.120003</td>\n",
              "      <td>83.430000</td>\n",
              "    </tr>\n",
              "  </tbody>\n",
              "</table>\n",
              "</div>\n",
              "      <button class=\"colab-df-convert\" onclick=\"convertToInteractive('df-ae8ce2f5-982e-4712-8e6a-6112e5d492bf')\"\n",
              "              title=\"Convert this dataframe to an interactive table.\"\n",
              "              style=\"display:none;\">\n",
              "        \n",
              "  <svg xmlns=\"http://www.w3.org/2000/svg\" height=\"24px\"viewBox=\"0 0 24 24\"\n",
              "       width=\"24px\">\n",
              "    <path d=\"M0 0h24v24H0V0z\" fill=\"none\"/>\n",
              "    <path d=\"M18.56 5.44l.94 2.06.94-2.06 2.06-.94-2.06-.94-.94-2.06-.94 2.06-2.06.94zm-11 1L8.5 8.5l.94-2.06 2.06-.94-2.06-.94L8.5 2.5l-.94 2.06-2.06.94zm10 10l.94 2.06.94-2.06 2.06-.94-2.06-.94-.94-2.06-.94 2.06-2.06.94z\"/><path d=\"M17.41 7.96l-1.37-1.37c-.4-.4-.92-.59-1.43-.59-.52 0-1.04.2-1.43.59L10.3 9.45l-7.72 7.72c-.78.78-.78 2.05 0 2.83L4 21.41c.39.39.9.59 1.41.59.51 0 1.02-.2 1.41-.59l7.78-7.78 2.81-2.81c.8-.78.8-2.07 0-2.86zM5.41 20L4 18.59l7.72-7.72 1.47 1.35L5.41 20z\"/>\n",
              "  </svg>\n",
              "      </button>\n",
              "      \n",
              "  <style>\n",
              "    .colab-df-container {\n",
              "      display:flex;\n",
              "      flex-wrap:wrap;\n",
              "      gap: 12px;\n",
              "    }\n",
              "\n",
              "    .colab-df-convert {\n",
              "      background-color: #E8F0FE;\n",
              "      border: none;\n",
              "      border-radius: 50%;\n",
              "      cursor: pointer;\n",
              "      display: none;\n",
              "      fill: #1967D2;\n",
              "      height: 32px;\n",
              "      padding: 0 0 0 0;\n",
              "      width: 32px;\n",
              "    }\n",
              "\n",
              "    .colab-df-convert:hover {\n",
              "      background-color: #E2EBFA;\n",
              "      box-shadow: 0px 1px 2px rgba(60, 64, 67, 0.3), 0px 1px 3px 1px rgba(60, 64, 67, 0.15);\n",
              "      fill: #174EA6;\n",
              "    }\n",
              "\n",
              "    [theme=dark] .colab-df-convert {\n",
              "      background-color: #3B4455;\n",
              "      fill: #D2E3FC;\n",
              "    }\n",
              "\n",
              "    [theme=dark] .colab-df-convert:hover {\n",
              "      background-color: #434B5C;\n",
              "      box-shadow: 0px 1px 3px 1px rgba(0, 0, 0, 0.15);\n",
              "      filter: drop-shadow(0px 1px 2px rgba(0, 0, 0, 0.3));\n",
              "      fill: #FFFFFF;\n",
              "    }\n",
              "  </style>\n",
              "\n",
              "      <script>\n",
              "        const buttonEl =\n",
              "          document.querySelector('#df-ae8ce2f5-982e-4712-8e6a-6112e5d492bf button.colab-df-convert');\n",
              "        buttonEl.style.display =\n",
              "          google.colab.kernel.accessAllowed ? 'block' : 'none';\n",
              "\n",
              "        async function convertToInteractive(key) {\n",
              "          const element = document.querySelector('#df-ae8ce2f5-982e-4712-8e6a-6112e5d492bf');\n",
              "          const dataTable =\n",
              "            await google.colab.kernel.invokeFunction('convertToInteractive',\n",
              "                                                     [key], {});\n",
              "          if (!dataTable) return;\n",
              "\n",
              "          const docLinkHtml = 'Like what you see? Visit the ' +\n",
              "            '<a target=\"_blank\" href=https://colab.research.google.com/notebooks/data_table.ipynb>data table notebook</a>'\n",
              "            + ' to learn more about interactive tables.';\n",
              "          element.innerHTML = '';\n",
              "          dataTable['output_type'] = 'display_data';\n",
              "          await google.colab.output.renderOutput(dataTable, element);\n",
              "          const docLink = document.createElement('div');\n",
              "          docLink.innerHTML = docLinkHtml;\n",
              "          element.appendChild(docLink);\n",
              "        }\n",
              "      </script>\n",
              "    </div>\n",
              "  </div>\n",
              "  "
            ]
          },
          "metadata": {},
          "execution_count": 505
        }
      ]
    },
    {
      "cell_type": "code",
      "source": [
        "market_prices = yf.download(\"SPY\", period=\"max\")[\"Adj Close\"]\n",
        "market_prices.tail()"
      ],
      "metadata": {
        "colab": {
          "base_uri": "https://localhost:8080/"
        },
        "id": "zYPj5MUPqhkf",
        "outputId": "a04c5962-644b-4123-f295-dcaa79a7aad6"
      },
      "execution_count": 506,
      "outputs": [
        {
          "output_type": "stream",
          "name": "stdout",
          "text": [
            "\r[*********************100%***********************]  1 of 1 completed\n"
          ]
        },
        {
          "output_type": "execute_result",
          "data": {
            "text/plain": [
              "Date\n",
              "2023-05-08    412.739990\n",
              "2023-05-09    410.929993\n",
              "2023-05-10    412.850006\n",
              "2023-05-11    412.130005\n",
              "2023-05-12    411.589996\n",
              "Name: Adj Close, dtype: float64"
            ]
          },
          "metadata": {},
          "execution_count": 506
        }
      ]
    },
    {
      "cell_type": "markdown",
      "source": [
        "#Stock information\n",
        "We get analysis's target price, market capital and sector informations from the api"
      ],
      "metadata": {
        "id": "2f45--sLtXCt"
      }
    },
    {
      "cell_type": "code",
      "source": [
        "mcaps = {}\n",
        "targetPrices = {}\n",
        "sectors = {}\n",
        "for t in tickers:\n",
        "    stock = yf.Ticker(t)\n",
        "    mcaps[t] = stock.info[\"marketCap\"]\n",
        "    targetPrices[t] = stock.info[\"targetMeanPrice\"]\n",
        "    #targetPrices[t] = stock.info[\"targetLowPrice\"]\n",
        "    #targetPrices[t] = stock.info[\"targetHighPrice\"]\n",
        "    sectors[t] = stock.info[\"sector\"]\n",
        "mcaps"
      ],
      "metadata": {
        "colab": {
          "base_uri": "https://localhost:8080/"
        },
        "id": "HKpQK89gqrOF",
        "outputId": "95da6912-264c-4853-9e4a-efd6e53967d1"
      },
      "execution_count": 507,
      "outputs": [
        {
          "output_type": "execute_result",
          "data": {
            "text/plain": [
              "{'MSFT': 2322178506752,\n",
              " 'AMZN': 1131311792128,\n",
              " 'BAC': 217717194752,\n",
              " 'DPZ': 10869569536,\n",
              " 'DIS': 184122572800,\n",
              " 'KO': 277248802816,\n",
              " 'JPM': 398833516544,\n",
              " 'COST': 223546490880,\n",
              " 'SBUX': 122630152192,\n",
              " 'AAPL': 2729798795264,\n",
              " 'TSM': 432674635776,\n",
              " 'GS': 107231232000,\n",
              " 'AAL': 9362051072}"
            ]
          },
          "metadata": {},
          "execution_count": 507
        }
      ]
    },
    {
      "cell_type": "markdown",
      "source": [
        "## Stock covariance\n",
        "I used a library to calculate the covariance vector between different assets, which we will use later to compute the prior(the asset prices knowing the potential risks)"
      ],
      "metadata": {
        "id": "dKi-whV2tgC4"
      }
    },
    {
      "cell_type": "code",
      "source": [
        "from pypfopt import risk_models\n",
        "\n",
        "cov_matrix = risk_models.CovarianceShrinkage(prices[:-simulation_day+1]).ledoit_wolf()\n",
        "cov_matrix"
      ],
      "metadata": {
        "colab": {
          "base_uri": "https://localhost:8080/",
          "height": 521
        },
        "id": "evSdm4uLquoC",
        "outputId": "fe5c8975-9bd3-4079-b0cc-3f49a03a1b11"
      },
      "execution_count": 508,
      "outputs": [
        {
          "output_type": "execute_result",
          "data": {
            "text/plain": [
              "           AAL      AAPL      AMZN       BAC      COST       DIS       DPZ  \\\n",
              "AAL   0.106536  0.014031  0.016229  0.033823  0.011090  0.015568  0.022666   \n",
              "AAPL  0.014031  0.144810  0.029662  0.028267  0.021811  0.026415  0.008475   \n",
              "AMZN  0.016229  0.029662  0.142418  0.025099  0.018505  0.021715  0.010948   \n",
              "BAC   0.033823  0.028267  0.025099  0.120020  0.021304  0.033390  0.015445   \n",
              "COST  0.011090  0.021811  0.018505  0.021304  0.062039  0.018670  0.006761   \n",
              "DIS   0.015568  0.026415  0.021715  0.033390  0.018670  0.101839  0.009190   \n",
              "DPZ   0.022666  0.008475  0.010948  0.015445  0.006761  0.009190  0.032402   \n",
              "GS    0.022053  0.019330  0.023247  0.036888  0.013445  0.018628  0.011850   \n",
              "JPM   0.027485  0.031018  0.027440  0.063879  0.023115  0.030977  0.014831   \n",
              "KO    0.007939  0.016689  0.007531  0.020986  0.011955  0.026067  0.004676   \n",
              "MSFT  0.011055  0.035152  0.026361  0.025337  0.020781  0.024143  0.007790   \n",
              "SBUX  0.017962  0.020363  0.024798  0.024293  0.017003  0.017084  0.012007   \n",
              "TSM   0.014317  0.026846  0.032866  0.022760  0.016206  0.020264  0.009913   \n",
              "\n",
              "            GS       JPM        KO      MSFT      SBUX       TSM  \n",
              "AAL   0.022053  0.027485  0.007939  0.011055  0.017962  0.014317  \n",
              "AAPL  0.019330  0.031018  0.016689  0.035152  0.020363  0.026846  \n",
              "AMZN  0.023247  0.027440  0.007531  0.026361  0.024798  0.032866  \n",
              "BAC   0.036888  0.063879  0.020986  0.025337  0.024293  0.022760  \n",
              "COST  0.013445  0.023115  0.011955  0.020781  0.017003  0.016206  \n",
              "DIS   0.018628  0.030977  0.026067  0.024143  0.017084  0.020264  \n",
              "DPZ   0.011850  0.014831  0.004676  0.007790  0.012007  0.009913  \n",
              "GS    0.048492  0.035142  0.006592  0.017959  0.016839  0.022780  \n",
              "JPM   0.035142  0.090484  0.018335  0.028383  0.023124  0.026138  \n",
              "KO    0.006592  0.018335  0.055784  0.015779  0.009713  0.006814  \n",
              "MSFT  0.017959  0.028383  0.015779  0.068339  0.018648  0.022445  \n",
              "SBUX  0.016839  0.023124  0.009713  0.018648  0.071734  0.018626  \n",
              "TSM   0.022780  0.026138  0.006814  0.022445  0.018626  0.078518  "
            ],
            "text/html": [
              "\n",
              "  <div id=\"df-3323db6b-92f0-4c7d-b171-4272a6291285\">\n",
              "    <div class=\"colab-df-container\">\n",
              "      <div>\n",
              "<style scoped>\n",
              "    .dataframe tbody tr th:only-of-type {\n",
              "        vertical-align: middle;\n",
              "    }\n",
              "\n",
              "    .dataframe tbody tr th {\n",
              "        vertical-align: top;\n",
              "    }\n",
              "\n",
              "    .dataframe thead th {\n",
              "        text-align: right;\n",
              "    }\n",
              "</style>\n",
              "<table border=\"1\" class=\"dataframe\">\n",
              "  <thead>\n",
              "    <tr style=\"text-align: right;\">\n",
              "      <th></th>\n",
              "      <th>AAL</th>\n",
              "      <th>AAPL</th>\n",
              "      <th>AMZN</th>\n",
              "      <th>BAC</th>\n",
              "      <th>COST</th>\n",
              "      <th>DIS</th>\n",
              "      <th>DPZ</th>\n",
              "      <th>GS</th>\n",
              "      <th>JPM</th>\n",
              "      <th>KO</th>\n",
              "      <th>MSFT</th>\n",
              "      <th>SBUX</th>\n",
              "      <th>TSM</th>\n",
              "    </tr>\n",
              "  </thead>\n",
              "  <tbody>\n",
              "    <tr>\n",
              "      <th>AAL</th>\n",
              "      <td>0.106536</td>\n",
              "      <td>0.014031</td>\n",
              "      <td>0.016229</td>\n",
              "      <td>0.033823</td>\n",
              "      <td>0.011090</td>\n",
              "      <td>0.015568</td>\n",
              "      <td>0.022666</td>\n",
              "      <td>0.022053</td>\n",
              "      <td>0.027485</td>\n",
              "      <td>0.007939</td>\n",
              "      <td>0.011055</td>\n",
              "      <td>0.017962</td>\n",
              "      <td>0.014317</td>\n",
              "    </tr>\n",
              "    <tr>\n",
              "      <th>AAPL</th>\n",
              "      <td>0.014031</td>\n",
              "      <td>0.144810</td>\n",
              "      <td>0.029662</td>\n",
              "      <td>0.028267</td>\n",
              "      <td>0.021811</td>\n",
              "      <td>0.026415</td>\n",
              "      <td>0.008475</td>\n",
              "      <td>0.019330</td>\n",
              "      <td>0.031018</td>\n",
              "      <td>0.016689</td>\n",
              "      <td>0.035152</td>\n",
              "      <td>0.020363</td>\n",
              "      <td>0.026846</td>\n",
              "    </tr>\n",
              "    <tr>\n",
              "      <th>AMZN</th>\n",
              "      <td>0.016229</td>\n",
              "      <td>0.029662</td>\n",
              "      <td>0.142418</td>\n",
              "      <td>0.025099</td>\n",
              "      <td>0.018505</td>\n",
              "      <td>0.021715</td>\n",
              "      <td>0.010948</td>\n",
              "      <td>0.023247</td>\n",
              "      <td>0.027440</td>\n",
              "      <td>0.007531</td>\n",
              "      <td>0.026361</td>\n",
              "      <td>0.024798</td>\n",
              "      <td>0.032866</td>\n",
              "    </tr>\n",
              "    <tr>\n",
              "      <th>BAC</th>\n",
              "      <td>0.033823</td>\n",
              "      <td>0.028267</td>\n",
              "      <td>0.025099</td>\n",
              "      <td>0.120020</td>\n",
              "      <td>0.021304</td>\n",
              "      <td>0.033390</td>\n",
              "      <td>0.015445</td>\n",
              "      <td>0.036888</td>\n",
              "      <td>0.063879</td>\n",
              "      <td>0.020986</td>\n",
              "      <td>0.025337</td>\n",
              "      <td>0.024293</td>\n",
              "      <td>0.022760</td>\n",
              "    </tr>\n",
              "    <tr>\n",
              "      <th>COST</th>\n",
              "      <td>0.011090</td>\n",
              "      <td>0.021811</td>\n",
              "      <td>0.018505</td>\n",
              "      <td>0.021304</td>\n",
              "      <td>0.062039</td>\n",
              "      <td>0.018670</td>\n",
              "      <td>0.006761</td>\n",
              "      <td>0.013445</td>\n",
              "      <td>0.023115</td>\n",
              "      <td>0.011955</td>\n",
              "      <td>0.020781</td>\n",
              "      <td>0.017003</td>\n",
              "      <td>0.016206</td>\n",
              "    </tr>\n",
              "    <tr>\n",
              "      <th>DIS</th>\n",
              "      <td>0.015568</td>\n",
              "      <td>0.026415</td>\n",
              "      <td>0.021715</td>\n",
              "      <td>0.033390</td>\n",
              "      <td>0.018670</td>\n",
              "      <td>0.101839</td>\n",
              "      <td>0.009190</td>\n",
              "      <td>0.018628</td>\n",
              "      <td>0.030977</td>\n",
              "      <td>0.026067</td>\n",
              "      <td>0.024143</td>\n",
              "      <td>0.017084</td>\n",
              "      <td>0.020264</td>\n",
              "    </tr>\n",
              "    <tr>\n",
              "      <th>DPZ</th>\n",
              "      <td>0.022666</td>\n",
              "      <td>0.008475</td>\n",
              "      <td>0.010948</td>\n",
              "      <td>0.015445</td>\n",
              "      <td>0.006761</td>\n",
              "      <td>0.009190</td>\n",
              "      <td>0.032402</td>\n",
              "      <td>0.011850</td>\n",
              "      <td>0.014831</td>\n",
              "      <td>0.004676</td>\n",
              "      <td>0.007790</td>\n",
              "      <td>0.012007</td>\n",
              "      <td>0.009913</td>\n",
              "    </tr>\n",
              "    <tr>\n",
              "      <th>GS</th>\n",
              "      <td>0.022053</td>\n",
              "      <td>0.019330</td>\n",
              "      <td>0.023247</td>\n",
              "      <td>0.036888</td>\n",
              "      <td>0.013445</td>\n",
              "      <td>0.018628</td>\n",
              "      <td>0.011850</td>\n",
              "      <td>0.048492</td>\n",
              "      <td>0.035142</td>\n",
              "      <td>0.006592</td>\n",
              "      <td>0.017959</td>\n",
              "      <td>0.016839</td>\n",
              "      <td>0.022780</td>\n",
              "    </tr>\n",
              "    <tr>\n",
              "      <th>JPM</th>\n",
              "      <td>0.027485</td>\n",
              "      <td>0.031018</td>\n",
              "      <td>0.027440</td>\n",
              "      <td>0.063879</td>\n",
              "      <td>0.023115</td>\n",
              "      <td>0.030977</td>\n",
              "      <td>0.014831</td>\n",
              "      <td>0.035142</td>\n",
              "      <td>0.090484</td>\n",
              "      <td>0.018335</td>\n",
              "      <td>0.028383</td>\n",
              "      <td>0.023124</td>\n",
              "      <td>0.026138</td>\n",
              "    </tr>\n",
              "    <tr>\n",
              "      <th>KO</th>\n",
              "      <td>0.007939</td>\n",
              "      <td>0.016689</td>\n",
              "      <td>0.007531</td>\n",
              "      <td>0.020986</td>\n",
              "      <td>0.011955</td>\n",
              "      <td>0.026067</td>\n",
              "      <td>0.004676</td>\n",
              "      <td>0.006592</td>\n",
              "      <td>0.018335</td>\n",
              "      <td>0.055784</td>\n",
              "      <td>0.015779</td>\n",
              "      <td>0.009713</td>\n",
              "      <td>0.006814</td>\n",
              "    </tr>\n",
              "    <tr>\n",
              "      <th>MSFT</th>\n",
              "      <td>0.011055</td>\n",
              "      <td>0.035152</td>\n",
              "      <td>0.026361</td>\n",
              "      <td>0.025337</td>\n",
              "      <td>0.020781</td>\n",
              "      <td>0.024143</td>\n",
              "      <td>0.007790</td>\n",
              "      <td>0.017959</td>\n",
              "      <td>0.028383</td>\n",
              "      <td>0.015779</td>\n",
              "      <td>0.068339</td>\n",
              "      <td>0.018648</td>\n",
              "      <td>0.022445</td>\n",
              "    </tr>\n",
              "    <tr>\n",
              "      <th>SBUX</th>\n",
              "      <td>0.017962</td>\n",
              "      <td>0.020363</td>\n",
              "      <td>0.024798</td>\n",
              "      <td>0.024293</td>\n",
              "      <td>0.017003</td>\n",
              "      <td>0.017084</td>\n",
              "      <td>0.012007</td>\n",
              "      <td>0.016839</td>\n",
              "      <td>0.023124</td>\n",
              "      <td>0.009713</td>\n",
              "      <td>0.018648</td>\n",
              "      <td>0.071734</td>\n",
              "      <td>0.018626</td>\n",
              "    </tr>\n",
              "    <tr>\n",
              "      <th>TSM</th>\n",
              "      <td>0.014317</td>\n",
              "      <td>0.026846</td>\n",
              "      <td>0.032866</td>\n",
              "      <td>0.022760</td>\n",
              "      <td>0.016206</td>\n",
              "      <td>0.020264</td>\n",
              "      <td>0.009913</td>\n",
              "      <td>0.022780</td>\n",
              "      <td>0.026138</td>\n",
              "      <td>0.006814</td>\n",
              "      <td>0.022445</td>\n",
              "      <td>0.018626</td>\n",
              "      <td>0.078518</td>\n",
              "    </tr>\n",
              "  </tbody>\n",
              "</table>\n",
              "</div>\n",
              "      <button class=\"colab-df-convert\" onclick=\"convertToInteractive('df-3323db6b-92f0-4c7d-b171-4272a6291285')\"\n",
              "              title=\"Convert this dataframe to an interactive table.\"\n",
              "              style=\"display:none;\">\n",
              "        \n",
              "  <svg xmlns=\"http://www.w3.org/2000/svg\" height=\"24px\"viewBox=\"0 0 24 24\"\n",
              "       width=\"24px\">\n",
              "    <path d=\"M0 0h24v24H0V0z\" fill=\"none\"/>\n",
              "    <path d=\"M18.56 5.44l.94 2.06.94-2.06 2.06-.94-2.06-.94-.94-2.06-.94 2.06-2.06.94zm-11 1L8.5 8.5l.94-2.06 2.06-.94-2.06-.94L8.5 2.5l-.94 2.06-2.06.94zm10 10l.94 2.06.94-2.06 2.06-.94-2.06-.94-.94-2.06-.94 2.06-2.06.94z\"/><path d=\"M17.41 7.96l-1.37-1.37c-.4-.4-.92-.59-1.43-.59-.52 0-1.04.2-1.43.59L10.3 9.45l-7.72 7.72c-.78.78-.78 2.05 0 2.83L4 21.41c.39.39.9.59 1.41.59.51 0 1.02-.2 1.41-.59l7.78-7.78 2.81-2.81c.8-.78.8-2.07 0-2.86zM5.41 20L4 18.59l7.72-7.72 1.47 1.35L5.41 20z\"/>\n",
              "  </svg>\n",
              "      </button>\n",
              "      \n",
              "  <style>\n",
              "    .colab-df-container {\n",
              "      display:flex;\n",
              "      flex-wrap:wrap;\n",
              "      gap: 12px;\n",
              "    }\n",
              "\n",
              "    .colab-df-convert {\n",
              "      background-color: #E8F0FE;\n",
              "      border: none;\n",
              "      border-radius: 50%;\n",
              "      cursor: pointer;\n",
              "      display: none;\n",
              "      fill: #1967D2;\n",
              "      height: 32px;\n",
              "      padding: 0 0 0 0;\n",
              "      width: 32px;\n",
              "    }\n",
              "\n",
              "    .colab-df-convert:hover {\n",
              "      background-color: #E2EBFA;\n",
              "      box-shadow: 0px 1px 2px rgba(60, 64, 67, 0.3), 0px 1px 3px 1px rgba(60, 64, 67, 0.15);\n",
              "      fill: #174EA6;\n",
              "    }\n",
              "\n",
              "    [theme=dark] .colab-df-convert {\n",
              "      background-color: #3B4455;\n",
              "      fill: #D2E3FC;\n",
              "    }\n",
              "\n",
              "    [theme=dark] .colab-df-convert:hover {\n",
              "      background-color: #434B5C;\n",
              "      box-shadow: 0px 1px 3px 1px rgba(0, 0, 0, 0.15);\n",
              "      filter: drop-shadow(0px 1px 2px rgba(0, 0, 0, 0.3));\n",
              "      fill: #FFFFFF;\n",
              "    }\n",
              "  </style>\n",
              "\n",
              "      <script>\n",
              "        const buttonEl =\n",
              "          document.querySelector('#df-3323db6b-92f0-4c7d-b171-4272a6291285 button.colab-df-convert');\n",
              "        buttonEl.style.display =\n",
              "          google.colab.kernel.accessAllowed ? 'block' : 'none';\n",
              "\n",
              "        async function convertToInteractive(key) {\n",
              "          const element = document.querySelector('#df-3323db6b-92f0-4c7d-b171-4272a6291285');\n",
              "          const dataTable =\n",
              "            await google.colab.kernel.invokeFunction('convertToInteractive',\n",
              "                                                     [key], {});\n",
              "          if (!dataTable) return;\n",
              "\n",
              "          const docLinkHtml = 'Like what you see? Visit the ' +\n",
              "            '<a target=\"_blank\" href=https://colab.research.google.com/notebooks/data_table.ipynb>data table notebook</a>'\n",
              "            + ' to learn more about interactive tables.';\n",
              "          element.innerHTML = '';\n",
              "          dataTable['output_type'] = 'display_data';\n",
              "          await google.colab.output.renderOutput(dataTable, element);\n",
              "          const docLink = document.createElement('div');\n",
              "          docLink.innerHTML = docLinkHtml;\n",
              "          element.appendChild(docLink);\n",
              "        }\n",
              "      </script>\n",
              "    </div>\n",
              "  </div>\n",
              "  "
            ]
          },
          "metadata": {},
          "execution_count": 508
        }
      ]
    },
    {
      "cell_type": "markdown",
      "source": [
        "## Risk free rates\n",
        "This will be the US 10 year treasury yield of today"
      ],
      "metadata": {
        "id": "GOBml6FftxN4"
      }
    },
    {
      "cell_type": "code",
      "source": [
        "risk_free_rates = 0.039"
      ],
      "metadata": {
        "id": "6nPxruMY5WPk"
      },
      "execution_count": 509,
      "outputs": []
    },
    {
      "cell_type": "markdown",
      "source": [
        "## Market implied risk return\n",
        "We are trying to calculate the delta  $ δ=(R−R_f) / σ2$ that reflects the potential returns taking away the part of money you can earn from US 10 year bonds."
      ],
      "metadata": {
        "id": "yVh58jjAt9Bd"
      }
    },
    {
      "cell_type": "code",
      "source": [
        "def market_implied_risk_premium(market_prices, frequency=252, risk_free_rates=0.02):\n",
        "  if not isinstance(market_prices, (pd.Series, pd.DataFrame)):\n",
        "    raise TypeError(\"Please format market_prices as a pd.Series\")\n",
        "  returns = market_prices.pct_change().dropna()\n",
        "  r = returns.mean() * frequency\n",
        "  variance = returns.var() * frequency\n",
        "  delta = (r - risk_free_rates) / variance\n",
        "  return delta\n",
        "# 252 are the number of trading days in a year (us stock market)\n",
        "delta = market_implied_risk_premium(market_prices[:-simulation_day+1], 252, risk_free_rates)\n",
        "print(delta)"
      ],
      "metadata": {
        "colab": {
          "base_uri": "https://localhost:8080/"
        },
        "id": "lr0rJ0RzsxUx",
        "outputId": "85a753e6-c74d-4cbc-86ee-b0584df06f8b"
      },
      "execution_count": 510,
      "outputs": [
        {
          "output_type": "stream",
          "name": "stdout",
          "text": [
            "1.6866207436044989\n"
          ]
        }
      ]
    },
    {
      "cell_type": "markdown",
      "source": [
        "You can see that by changing the risk_free_rate, you you will have a different delta, so this delta is dependent on the Fed's decision at every FOMC meeting."
      ],
      "metadata": {
        "id": "HoMvIv-ev-G6"
      }
    },
    {
      "cell_type": "markdown",
      "source": [
        "## Market implied excess equilibrium returns\n",
        "Here we will get the prior, which is the potential future returns we can get, considering the factors of each component, they are market capitals, covariance between assets. We get the prior by aplying this formula : $ Π=δΣwmkt $"
      ],
      "metadata": {
        "id": "WvCp8ga3vMjT"
      }
    },
    {
      "cell_type": "code",
      "source": [
        "def market_implied_returns(marketCap, delta, cov_matrix, risk_free_rate=0.02):\n",
        "  mcaps = pd.Series(marketCap)\n",
        "  mWeights = pd.Series(mcaps / mcaps.sum())\n",
        "  pi = delta * cov_matrix.dot(mWeights) + risk_free_rate\n",
        "  return pi\n",
        "\n",
        "prior = market_implied_returns(mcaps, delta, cov_matrix, risk_free_rates)\n",
        "tickers = prior.index.to_numpy()\n",
        "print(prior)\n",
        "tickers"
      ],
      "metadata": {
        "colab": {
          "base_uri": "https://localhost:8080/"
        },
        "id": "QT8qaudtxf7K",
        "outputId": "fdb317da-0a0a-4c32-f6a8-e4703efd68c2"
      },
      "execution_count": 511,
      "outputs": [
        {
          "output_type": "stream",
          "name": "stdout",
          "text": [
            "AAL     0.063824\n",
            "AAPL    0.154598\n",
            "AMZN    0.111268\n",
            "BAC     0.090626\n",
            "COST    0.074916\n",
            "DIS     0.083526\n",
            "DPZ     0.054484\n",
            "GS      0.073804\n",
            "JPM     0.093911\n",
            "KO      0.065950\n",
            "MSFT    0.106917\n",
            "SBUX    0.074117\n",
            "TSM     0.085701\n",
            "dtype: float64\n"
          ]
        },
        {
          "output_type": "execute_result",
          "data": {
            "text/plain": [
              "array(['AAL', 'AAPL', 'AMZN', 'BAC', 'COST', 'DIS', 'DPZ', 'GS', 'JPM',\n",
              "       'KO', 'MSFT', 'SBUX', 'TSM'], dtype=object)"
            ]
          },
          "metadata": {},
          "execution_count": 511
        }
      ]
    },
    {
      "cell_type": "markdown",
      "source": [
        "In order to diversify in the market, we need to put a small portion of our money also in stocks that doesn't really have the best potential. Otherwise you will have greater flactuations"
      ],
      "metadata": {
        "id": "-LscYoXbwc2l"
      }
    },
    {
      "cell_type": "code",
      "source": [
        "potential_view = pd.Series(targetPrices) / prices.tail(1) - 1\n",
        "potential_view"
      ],
      "metadata": {
        "colab": {
          "base_uri": "https://localhost:8080/",
          "height": 193
        },
        "id": "cfNoRvPb8vyp",
        "outputId": "b646122e-5c70-4616-e872-37b1d4f171af"
      },
      "execution_count": 512,
      "outputs": [
        {
          "output_type": "execute_result",
          "data": {
            "text/plain": [
              "                 AAL      AAPL     AMZN       BAC      COST      DIS  \\\n",
              "Date                                                                   \n",
              "2023-05-12  0.201854 -0.052558  0.21277  0.229974  0.087408  0.23133   \n",
              "\n",
              "                 DPZ        GS       JPM        KO      MSFT      SBUX  \\\n",
              "Date                                                                     \n",
              "2023-05-12  0.145035  0.212238  0.197912  0.089222 -0.019516  0.096306   \n",
              "\n",
              "                 TSM  \n",
              "Date                  \n",
              "2023-05-12  0.234328  "
            ],
            "text/html": [
              "\n",
              "  <div id=\"df-1aca1004-63bb-4c3c-88d5-192919faf297\">\n",
              "    <div class=\"colab-df-container\">\n",
              "      <div>\n",
              "<style scoped>\n",
              "    .dataframe tbody tr th:only-of-type {\n",
              "        vertical-align: middle;\n",
              "    }\n",
              "\n",
              "    .dataframe tbody tr th {\n",
              "        vertical-align: top;\n",
              "    }\n",
              "\n",
              "    .dataframe thead th {\n",
              "        text-align: right;\n",
              "    }\n",
              "</style>\n",
              "<table border=\"1\" class=\"dataframe\">\n",
              "  <thead>\n",
              "    <tr style=\"text-align: right;\">\n",
              "      <th></th>\n",
              "      <th>AAL</th>\n",
              "      <th>AAPL</th>\n",
              "      <th>AMZN</th>\n",
              "      <th>BAC</th>\n",
              "      <th>COST</th>\n",
              "      <th>DIS</th>\n",
              "      <th>DPZ</th>\n",
              "      <th>GS</th>\n",
              "      <th>JPM</th>\n",
              "      <th>KO</th>\n",
              "      <th>MSFT</th>\n",
              "      <th>SBUX</th>\n",
              "      <th>TSM</th>\n",
              "    </tr>\n",
              "    <tr>\n",
              "      <th>Date</th>\n",
              "      <th></th>\n",
              "      <th></th>\n",
              "      <th></th>\n",
              "      <th></th>\n",
              "      <th></th>\n",
              "      <th></th>\n",
              "      <th></th>\n",
              "      <th></th>\n",
              "      <th></th>\n",
              "      <th></th>\n",
              "      <th></th>\n",
              "      <th></th>\n",
              "      <th></th>\n",
              "    </tr>\n",
              "  </thead>\n",
              "  <tbody>\n",
              "    <tr>\n",
              "      <th>2023-05-12</th>\n",
              "      <td>0.201854</td>\n",
              "      <td>-0.052558</td>\n",
              "      <td>0.21277</td>\n",
              "      <td>0.229974</td>\n",
              "      <td>0.087408</td>\n",
              "      <td>0.23133</td>\n",
              "      <td>0.145035</td>\n",
              "      <td>0.212238</td>\n",
              "      <td>0.197912</td>\n",
              "      <td>0.089222</td>\n",
              "      <td>-0.019516</td>\n",
              "      <td>0.096306</td>\n",
              "      <td>0.234328</td>\n",
              "    </tr>\n",
              "  </tbody>\n",
              "</table>\n",
              "</div>\n",
              "      <button class=\"colab-df-convert\" onclick=\"convertToInteractive('df-1aca1004-63bb-4c3c-88d5-192919faf297')\"\n",
              "              title=\"Convert this dataframe to an interactive table.\"\n",
              "              style=\"display:none;\">\n",
              "        \n",
              "  <svg xmlns=\"http://www.w3.org/2000/svg\" height=\"24px\"viewBox=\"0 0 24 24\"\n",
              "       width=\"24px\">\n",
              "    <path d=\"M0 0h24v24H0V0z\" fill=\"none\"/>\n",
              "    <path d=\"M18.56 5.44l.94 2.06.94-2.06 2.06-.94-2.06-.94-.94-2.06-.94 2.06-2.06.94zm-11 1L8.5 8.5l.94-2.06 2.06-.94-2.06-.94L8.5 2.5l-.94 2.06-2.06.94zm10 10l.94 2.06.94-2.06 2.06-.94-2.06-.94-.94-2.06-.94 2.06-2.06.94z\"/><path d=\"M17.41 7.96l-1.37-1.37c-.4-.4-.92-.59-1.43-.59-.52 0-1.04.2-1.43.59L10.3 9.45l-7.72 7.72c-.78.78-.78 2.05 0 2.83L4 21.41c.39.39.9.59 1.41.59.51 0 1.02-.2 1.41-.59l7.78-7.78 2.81-2.81c.8-.78.8-2.07 0-2.86zM5.41 20L4 18.59l7.72-7.72 1.47 1.35L5.41 20z\"/>\n",
              "  </svg>\n",
              "      </button>\n",
              "      \n",
              "  <style>\n",
              "    .colab-df-container {\n",
              "      display:flex;\n",
              "      flex-wrap:wrap;\n",
              "      gap: 12px;\n",
              "    }\n",
              "\n",
              "    .colab-df-convert {\n",
              "      background-color: #E8F0FE;\n",
              "      border: none;\n",
              "      border-radius: 50%;\n",
              "      cursor: pointer;\n",
              "      display: none;\n",
              "      fill: #1967D2;\n",
              "      height: 32px;\n",
              "      padding: 0 0 0 0;\n",
              "      width: 32px;\n",
              "    }\n",
              "\n",
              "    .colab-df-convert:hover {\n",
              "      background-color: #E2EBFA;\n",
              "      box-shadow: 0px 1px 2px rgba(60, 64, 67, 0.3), 0px 1px 3px 1px rgba(60, 64, 67, 0.15);\n",
              "      fill: #174EA6;\n",
              "    }\n",
              "\n",
              "    [theme=dark] .colab-df-convert {\n",
              "      background-color: #3B4455;\n",
              "      fill: #D2E3FC;\n",
              "    }\n",
              "\n",
              "    [theme=dark] .colab-df-convert:hover {\n",
              "      background-color: #434B5C;\n",
              "      box-shadow: 0px 1px 3px 1px rgba(0, 0, 0, 0.15);\n",
              "      filter: drop-shadow(0px 1px 2px rgba(0, 0, 0, 0.3));\n",
              "      fill: #FFFFFF;\n",
              "    }\n",
              "  </style>\n",
              "\n",
              "      <script>\n",
              "        const buttonEl =\n",
              "          document.querySelector('#df-1aca1004-63bb-4c3c-88d5-192919faf297 button.colab-df-convert');\n",
              "        buttonEl.style.display =\n",
              "          google.colab.kernel.accessAllowed ? 'block' : 'none';\n",
              "\n",
              "        async function convertToInteractive(key) {\n",
              "          const element = document.querySelector('#df-1aca1004-63bb-4c3c-88d5-192919faf297');\n",
              "          const dataTable =\n",
              "            await google.colab.kernel.invokeFunction('convertToInteractive',\n",
              "                                                     [key], {});\n",
              "          if (!dataTable) return;\n",
              "\n",
              "          const docLinkHtml = 'Like what you see? Visit the ' +\n",
              "            '<a target=\"_blank\" href=https://colab.research.google.com/notebooks/data_table.ipynb>data table notebook</a>'\n",
              "            + ' to learn more about interactive tables.';\n",
              "          element.innerHTML = '';\n",
              "          dataTable['output_type'] = 'display_data';\n",
              "          await google.colab.output.renderOutput(dataTable, element);\n",
              "          const docLink = document.createElement('div');\n",
              "          docLink.innerHTML = docLinkHtml;\n",
              "          element.appendChild(docLink);\n",
              "        }\n",
              "      </script>\n",
              "    </div>\n",
              "  </div>\n",
              "  "
            ]
          },
          "metadata": {},
          "execution_count": 512
        }
      ]
    },
    {
      "cell_type": "markdown",
      "source": [
        "# View vector\n",
        "We need to integrate our views on the stocks we are trying to invest. For example, if I think Apple are doing stock buy backs, I think APPL will increase 10% from now, Then I will put 0.10 in the array. For convenience, I downloaded the mean analysts' target prices, and let that price as potential gains. So you can leave this part, if you trust on wall street's analysts. "
      ],
      "metadata": {
        "id": "oX4Ia9Knw5OJ"
      }
    },
    {
      "cell_type": "code",
      "source": [
        "#Q = np.array([0.20, 0.10, 0.05, 0.10])\n",
        "'''Q = np.array([ \n",
        "     0.10,\n",
        "     0.30,\n",
        "     0.05,\n",
        "     0.05,\n",
        "     0.20,\n",
        "     -0.05,  # I think Coca-Cola will go down 5%\n",
        "     0.15,\n",
        "     0.10,\n",
        "     0.50,  # but low confidence, which will be reflected later\n",
        "     0.10\n",
        "] )\n",
        "Q.reshape(-1, 1)'''\n",
        "Q = potential_view.to_numpy().squeeze()\n",
        "Q\n"
      ],
      "metadata": {
        "colab": {
          "base_uri": "https://localhost:8080/"
        },
        "id": "3ry0RKSJ1euf",
        "outputId": "9b875f70-871e-4fc0-8c09-414cee8c68c1"
      },
      "execution_count": 513,
      "outputs": [
        {
          "output_type": "execute_result",
          "data": {
            "text/plain": [
              "array([ 0.20185445, -0.05255842,  0.21276979,  0.22997415,  0.08740848,\n",
              "        0.23132952,  0.14503549,  0.21223787,  0.19791195,  0.08922164,\n",
              "       -0.01951646,  0.09630604,  0.23432817])"
            ]
          },
          "metadata": {},
          "execution_count": 513
        }
      ]
    },
    {
      "cell_type": "markdown",
      "source": [
        "The columns of P should be in the order as we can find in the series, which we will multiply later"
      ],
      "metadata": {
        "id": "JrfpwSRMAGTR"
      }
    },
    {
      "cell_type": "markdown",
      "source": [
        "## Picking vector\n",
        "P is the vector that associates each view to our stocks. You can find how to specify this vector [here](https://pyportfolioopt.readthedocs.io/en/latest/BlackLitterman.html) "
      ],
      "metadata": {
        "id": "I-3CvZ0dx1CP"
      }
    },
    {
      "cell_type": "code",
      "source": [
        "#P = np.array([[1, 0, 0, 0, 0, 0, 0, 0, 0 ,0],\n",
        " #            [0, 0, 0, 0, 0, 0, 0, 0, 0 ,1],\n",
        "  #           [0, 0, 0, 1, -1, 0, 0, 0, 0 ,0],\n",
        "   #          [0, 0, 0, 0, 0, 0.5, 0.5, -0.5, -0.5 ,0]])\n",
        "P = np.eye(len(tickers))\n",
        "P"
      ],
      "metadata": {
        "id": "k288pB_pDXGW",
        "colab": {
          "base_uri": "https://localhost:8080/"
        },
        "outputId": "15b8e7bd-5f20-43fe-947f-d4199c7c206c"
      },
      "execution_count": 514,
      "outputs": [
        {
          "output_type": "execute_result",
          "data": {
            "text/plain": [
              "array([[1., 0., 0., 0., 0., 0., 0., 0., 0., 0., 0., 0., 0.],\n",
              "       [0., 1., 0., 0., 0., 0., 0., 0., 0., 0., 0., 0., 0.],\n",
              "       [0., 0., 1., 0., 0., 0., 0., 0., 0., 0., 0., 0., 0.],\n",
              "       [0., 0., 0., 1., 0., 0., 0., 0., 0., 0., 0., 0., 0.],\n",
              "       [0., 0., 0., 0., 1., 0., 0., 0., 0., 0., 0., 0., 0.],\n",
              "       [0., 0., 0., 0., 0., 1., 0., 0., 0., 0., 0., 0., 0.],\n",
              "       [0., 0., 0., 0., 0., 0., 1., 0., 0., 0., 0., 0., 0.],\n",
              "       [0., 0., 0., 0., 0., 0., 0., 1., 0., 0., 0., 0., 0.],\n",
              "       [0., 0., 0., 0., 0., 0., 0., 0., 1., 0., 0., 0., 0.],\n",
              "       [0., 0., 0., 0., 0., 0., 0., 0., 0., 1., 0., 0., 0.],\n",
              "       [0., 0., 0., 0., 0., 0., 0., 0., 0., 0., 1., 0., 0.],\n",
              "       [0., 0., 0., 0., 0., 0., 0., 0., 0., 0., 0., 1., 0.],\n",
              "       [0., 0., 0., 0., 0., 0., 0., 0., 0., 0., 0., 0., 1.]])"
            ]
          },
          "metadata": {},
          "execution_count": 514
        }
      ]
    },
    {
      "cell_type": "code",
      "source": [
        "Q_P = Q @ P\n",
        "Q_P = pd.Series(data=Q_P, index=tickers)\n",
        "Q_P"
      ],
      "metadata": {
        "colab": {
          "base_uri": "https://localhost:8080/"
        },
        "id": "0shX_Do4n1Yo",
        "outputId": "a0d57d82-2cf6-49f3-e667-c49608e68518"
      },
      "execution_count": 515,
      "outputs": [
        {
          "output_type": "execute_result",
          "data": {
            "text/plain": [
              "AAL     0.201854\n",
              "AAPL   -0.052558\n",
              "AMZN    0.212770\n",
              "BAC     0.229974\n",
              "COST    0.087408\n",
              "DIS     0.231330\n",
              "DPZ     0.145035\n",
              "GS      0.212238\n",
              "JPM     0.197912\n",
              "KO      0.089222\n",
              "MSFT   -0.019516\n",
              "SBUX    0.096306\n",
              "TSM     0.234328\n",
              "dtype: float64"
            ]
          },
          "metadata": {},
          "execution_count": 515
        }
      ]
    },
    {
      "cell_type": "markdown",
      "source": [
        "# Confidence vector\n",
        "Confidence is that you need to specify, how certain you were about your views, if you are 100% convinced that APPL will increase 10%, then you put 1; If you think you are half convinved you put 0.5. For convenience, I put a same value for every view, you can decide your confidence vectors."
      ],
      "metadata": {
        "id": "Y6Z1ebAcEccW"
      }
    },
    {
      "cell_type": "code",
      "source": [
        "variances = []\n",
        "'''confidence_interval = [\n",
        "    (0, 0.25),\n",
        "    (0.1, 0.4),\n",
        "    (-0.1, 0.15),\n",
        "    (-0.05, 0.1),\n",
        "    (0.15, 0.25),\n",
        "    (-0.1, 0),\n",
        "    (0.1, 0.2),\n",
        "    (0.08, 0.12),\n",
        "    (0.1, 0.9),\n",
        "    (0, 0.3)\n",
        "]\n",
        "for ll, lh in confidence_interval:\n",
        "  sigma = ((lh-ll) / 2) ** 2\n",
        "  variances.append(sigma)'''\n",
        "\n",
        "'''confidences = [\n",
        "    0.6,\n",
        "    0.4,\n",
        "    0.2,\n",
        "    0.5,\n",
        "    0.7, \n",
        "    0.7, \n",
        "    0.7, \n",
        "    0.5,\n",
        "    0.1,\n",
        "    0.4\n",
        "]'''\n",
        "confidences = [0.1] * len(tickers)\n",
        "variances = confidences"
      ],
      "metadata": {
        "id": "0FFuqxCEs72w"
      },
      "execution_count": 516,
      "outputs": []
    },
    {
      "cell_type": "markdown",
      "source": [
        "# Omega uncertainty matrix\n",
        "$ Ω=τ∗PΣP^T $ is the formula I used to calcualte the uncertainty matrix, the more you are not sure about your views, the more you are uncertain to the view you gave to the asset."
      ],
      "metadata": {
        "id": "kYiM7tMVyq-X"
      }
    },
    {
      "cell_type": "code",
      "source": [
        "tau = 0.05\n",
        "def idzorek_method(tau, view_uncertainty, P, Q, S):\n",
        "  view_omg = []\n",
        "  for q_id in range(len(Q)):\n",
        "    conf = view_uncertainty[q_id]\n",
        "    if conf < 0 or conf > 1:\n",
        "      raise ValueError(\"View confidences must be between 0 and 1\")\n",
        "    if conf == 0:\n",
        "      view_omg.append(1e6)\n",
        "      continue\n",
        "    alpha = (1-conf)/conf\n",
        "    P_view = P[q_id]\n",
        "    omega = tau * alpha * P_view @ S @ P_view.T\n",
        "    view_omg.append(omega)\n",
        "\n",
        "  return np.diag(view_omg)\n",
        "\n",
        "omega = idzorek_method(tau, variances, P, Q, cov_matrix)\n",
        "pd.Series(data=np.diag(omega), index=tickers)"
      ],
      "metadata": {
        "colab": {
          "base_uri": "https://localhost:8080/"
        },
        "id": "DA-iHvsWEcHk",
        "outputId": "3b711703-47be-4edd-97db-948ee5d948b0"
      },
      "execution_count": 517,
      "outputs": [
        {
          "output_type": "execute_result",
          "data": {
            "text/plain": [
              "AAL     0.047941\n",
              "AAPL    0.065164\n",
              "AMZN    0.064088\n",
              "BAC     0.054009\n",
              "COST    0.027918\n",
              "DIS     0.045828\n",
              "DPZ     0.014581\n",
              "GS      0.021821\n",
              "JPM     0.040718\n",
              "KO      0.025103\n",
              "MSFT    0.030753\n",
              "SBUX    0.032280\n",
              "TSM     0.035333\n",
              "dtype: float64"
            ]
          },
          "metadata": {},
          "execution_count": 517
        }
      ]
    },
    {
      "cell_type": "code",
      "source": [
        "fig, ax = plt.subplots(figsize=(7,7))\n",
        "im = ax.imshow(omega)\n",
        "\n",
        "# We want to show all ticks...\n",
        "ax.set_xticks(np.arange(len(tickers)))\n",
        "ax.set_yticks(np.arange(len(tickers)))\n",
        "\n",
        "ax.set_xticklabels(tickers)\n",
        "ax.set_yticklabels(tickers)\n",
        "plt.show()"
      ],
      "metadata": {
        "colab": {
          "base_uri": "https://localhost:8080/",
          "height": 599
        },
        "id": "eAsjfZV4zOqf",
        "outputId": "a5380b03-1523-405f-e673-4fa6bf6e258e"
      },
      "execution_count": 518,
      "outputs": [
        {
          "output_type": "display_data",
          "data": {
            "text/plain": [
              "<Figure size 700x700 with 1 Axes>"
            ],
            "image/png": "[encoded data removed]"
          },
          "metadata": {}
        }
      ]
    },
    {
      "cell_type": "markdown",
      "source": [
        "## Black litterman posterior excess returns\n",
        "\n",
        "$ E(R)=[(τΣ)^{-1}+P^TΩ^{-1}P]^{-1}[(τΣ)^{-1}Π+P^TΩ^{-1}Q] $\n",
        " \n",
        "$E(R)$\n",
        " is a Nx1 vector of expected returns, where N is the number of assets.\n",
        "\n",
        "$Q$\n",
        " is a Kx1 vector of views.\n",
        "\n",
        "$P$\n",
        " is the KxN picking matrix which maps views to the universe of assets. Essentially, it tells the model which view corresponds to which asset(s).\n",
        "\n",
        "$Ω$ omega\n",
        " is the KxK uncertainty matrix of views.\n",
        "\n",
        "$Π$ pi, prior\n",
        " is the Nx1 vector of prior expected returns.\n",
        "\n",
        "$Σ$ sigma\n",
        " is the NxN covariance matrix of asset returns (as always)\n",
        "\n",
        "$τ$\n",
        " is a scalar tuning constant.\n"
      ],
      "metadata": {
        "id": "zm3yUNxHzPk7"
      }
    },
    {
      "cell_type": "code",
      "source": [
        "tau_S_inv = np.linalg.inv(tau * cov_matrix)\n",
        "omega_inv = np.linalg.inv(omega) \n",
        "expected_excess_returns = np.linalg.inv(tau_S_inv + (P.T @ omega_inv @ P)) @ (tau_S_inv @ prior + P.T @ omega_inv @ Q )\n",
        "rets_bl = pd.Series(data=expected_excess_returns, index=tickers)\n",
        "rets_bl "
      ],
      "metadata": {
        "id": "u6hWgLnsFm18",
        "colab": {
          "base_uri": "https://localhost:8080/"
        },
        "outputId": "904fbcb3-365e-4c76-f547-7bc827178fac"
      },
      "execution_count": 519,
      "outputs": [
        {
          "output_type": "execute_result",
          "data": {
            "text/plain": [
              "AAL     0.094407\n",
              "AAPL    0.149788\n",
              "AMZN    0.134505\n",
              "BAC     0.126318\n",
              "COST    0.084977\n",
              "DIS     0.108739\n",
              "DPZ     0.071996\n",
              "GS      0.100003\n",
              "JPM     0.124563\n",
              "KO      0.074420\n",
              "MSFT    0.109468\n",
              "SBUX    0.089045\n",
              "TSM     0.110290\n",
              "dtype: float64"
            ]
          },
          "metadata": {},
          "execution_count": 519
        }
      ]
    },
    {
      "cell_type": "code",
      "source": [
        "rets_df = pd.DataFrame([prior, rets_bl, Q_P], \n",
        "             index=[\"Prior\", \"Posterior\", \"Views\"]).T\n",
        "             \n",
        "rets_df"
      ],
      "metadata": {
        "colab": {
          "base_uri": "https://localhost:8080/",
          "height": 457
        },
        "id": "ZyuBfQpMkZot",
        "outputId": "d55f1c54-6c43-4025-acd8-1f6a3e84b566"
      },
      "execution_count": 520,
      "outputs": [
        {
          "output_type": "execute_result",
          "data": {
            "text/plain": [
              "         Prior  Posterior     Views\n",
              "AAL   0.063824   0.094407  0.201854\n",
              "AAPL  0.154598   0.149788 -0.052558\n",
              "AMZN  0.111268   0.134505  0.212770\n",
              "BAC   0.090626   0.126318  0.229974\n",
              "COST  0.074916   0.084977  0.087408\n",
              "DIS   0.083526   0.108739  0.231330\n",
              "DPZ   0.054484   0.071996  0.145035\n",
              "GS    0.073804   0.100003  0.212238\n",
              "JPM   0.093911   0.124563  0.197912\n",
              "KO    0.065950   0.074420  0.089222\n",
              "MSFT  0.106917   0.109468 -0.019516\n",
              "SBUX  0.074117   0.089045  0.096306\n",
              "TSM   0.085701   0.110290  0.234328"
            ],
            "text/html": [
              "\n",
              "  <div id=\"df-a6340289-d5e0-4307-a6bb-eff63dd07a91\">\n",
              "    <div class=\"colab-df-container\">\n",
              "      <div>\n",
              "<style scoped>\n",
              "    .dataframe tbody tr th:only-of-type {\n",
              "        vertical-align: middle;\n",
              "    }\n",
              "\n",
              "    .dataframe tbody tr th {\n",
              "        vertical-align: top;\n",
              "    }\n",
              "\n",
              "    .dataframe thead th {\n",
              "        text-align: right;\n",
              "    }\n",
              "</style>\n",
              "<table border=\"1\" class=\"dataframe\">\n",
              "  <thead>\n",
              "    <tr style=\"text-align: right;\">\n",
              "      <th></th>\n",
              "      <th>Prior</th>\n",
              "      <th>Posterior</th>\n",
              "      <th>Views</th>\n",
              "    </tr>\n",
              "  </thead>\n",
              "  <tbody>\n",
              "    <tr>\n",
              "      <th>AAL</th>\n",
              "      <td>0.063824</td>\n",
              "      <td>0.094407</td>\n",
              "      <td>0.201854</td>\n",
              "    </tr>\n",
              "    <tr>\n",
              "      <th>AAPL</th>\n",
              "      <td>0.154598</td>\n",
              "      <td>0.149788</td>\n",
              "      <td>-0.052558</td>\n",
              "    </tr>\n",
              "    <tr>\n",
              "      <th>AMZN</th>\n",
              "      <td>0.111268</td>\n",
              "      <td>0.134505</td>\n",
              "      <td>0.212770</td>\n",
              "    </tr>\n",
              "    <tr>\n",
              "      <th>BAC</th>\n",
              "      <td>0.090626</td>\n",
              "      <td>0.126318</td>\n",
              "      <td>0.229974</td>\n",
              "    </tr>\n",
              "    <tr>\n",
              "      <th>COST</th>\n",
              "      <td>0.074916</td>\n",
              "      <td>0.084977</td>\n",
              "      <td>0.087408</td>\n",
              "    </tr>\n",
              "    <tr>\n",
              "      <th>DIS</th>\n",
              "      <td>0.083526</td>\n",
              "      <td>0.108739</td>\n",
              "      <td>0.231330</td>\n",
              "    </tr>\n",
              "    <tr>\n",
              "      <th>DPZ</th>\n",
              "      <td>0.054484</td>\n",
              "      <td>0.071996</td>\n",
              "      <td>0.145035</td>\n",
              "    </tr>\n",
              "    <tr>\n",
              "      <th>GS</th>\n",
              "      <td>0.073804</td>\n",
              "      <td>0.100003</td>\n",
              "      <td>0.212238</td>\n",
              "    </tr>\n",
              "    <tr>\n",
              "      <th>JPM</th>\n",
              "      <td>0.093911</td>\n",
              "      <td>0.124563</td>\n",
              "      <td>0.197912</td>\n",
              "    </tr>\n",
              "    <tr>\n",
              "      <th>KO</th>\n",
              "      <td>0.065950</td>\n",
              "      <td>0.074420</td>\n",
              "      <td>0.089222</td>\n",
              "    </tr>\n",
              "    <tr>\n",
              "      <th>MSFT</th>\n",
              "      <td>0.106917</td>\n",
              "      <td>0.109468</td>\n",
              "      <td>-0.019516</td>\n",
              "    </tr>\n",
              "    <tr>\n",
              "      <th>SBUX</th>\n",
              "      <td>0.074117</td>\n",
              "      <td>0.089045</td>\n",
              "      <td>0.096306</td>\n",
              "    </tr>\n",
              "    <tr>\n",
              "      <th>TSM</th>\n",
              "      <td>0.085701</td>\n",
              "      <td>0.110290</td>\n",
              "      <td>0.234328</td>\n",
              "    </tr>\n",
              "  </tbody>\n",
              "</table>\n",
              "</div>\n",
              "      <button class=\"colab-df-convert\" onclick=\"convertToInteractive('df-a6340289-d5e0-4307-a6bb-eff63dd07a91')\"\n",
              "              title=\"Convert this dataframe to an interactive table.\"\n",
              "              style=\"display:none;\">\n",
              "        \n",
              "  <svg xmlns=\"http://www.w3.org/2000/svg\" height=\"24px\"viewBox=\"0 0 24 24\"\n",
              "       width=\"24px\">\n",
              "    <path d=\"M0 0h24v24H0V0z\" fill=\"none\"/>\n",
              "    <path d=\"M18.56 5.44l.94 2.06.94-2.06 2.06-.94-2.06-.94-.94-2.06-.94 2.06-2.06.94zm-11 1L8.5 8.5l.94-2.06 2.06-.94-2.06-.94L8.5 2.5l-.94 2.06-2.06.94zm10 10l.94 2.06.94-2.06 2.06-.94-2.06-.94-.94-2.06-.94 2.06-2.06.94z\"/><path d=\"M17.41 7.96l-1.37-1.37c-.4-.4-.92-.59-1.43-.59-.52 0-1.04.2-1.43.59L10.3 9.45l-7.72 7.72c-.78.78-.78 2.05 0 2.83L4 21.41c.39.39.9.59 1.41.59.51 0 1.02-.2 1.41-.59l7.78-7.78 2.81-2.81c.8-.78.8-2.07 0-2.86zM5.41 20L4 18.59l7.72-7.72 1.47 1.35L5.41 20z\"/>\n",
              "  </svg>\n",
              "      </button>\n",
              "      \n",
              "  <style>\n",
              "    .colab-df-container {\n",
              "      display:flex;\n",
              "      flex-wrap:wrap;\n",
              "      gap: 12px;\n",
              "    }\n",
              "\n",
              "    .colab-df-convert {\n",
              "      background-color: #E8F0FE;\n",
              "      border: none;\n",
              "      border-radius: 50%;\n",
              "      cursor: pointer;\n",
              "      display: none;\n",
              "      fill: #1967D2;\n",
              "      height: 32px;\n",
              "      padding: 0 0 0 0;\n",
              "      width: 32px;\n",
              "    }\n",
              "\n",
              "    .colab-df-convert:hover {\n",
              "      background-color: #E2EBFA;\n",
              "      box-shadow: 0px 1px 2px rgba(60, 64, 67, 0.3), 0px 1px 3px 1px rgba(60, 64, 67, 0.15);\n",
              "      fill: #174EA6;\n",
              "    }\n",
              "\n",
              "    [theme=dark] .colab-df-convert {\n",
              "      background-color: #3B4455;\n",
              "      fill: #D2E3FC;\n",
              "    }\n",
              "\n",
              "    [theme=dark] .colab-df-convert:hover {\n",
              "      background-color: #434B5C;\n",
              "      box-shadow: 0px 1px 3px 1px rgba(0, 0, 0, 0.15);\n",
              "      filter: drop-shadow(0px 1px 2px rgba(0, 0, 0, 0.3));\n",
              "      fill: #FFFFFF;\n",
              "    }\n",
              "  </style>\n",
              "\n",
              "      <script>\n",
              "        const buttonEl =\n",
              "          document.querySelector('#df-a6340289-d5e0-4307-a6bb-eff63dd07a91 button.colab-df-convert');\n",
              "        buttonEl.style.display =\n",
              "          google.colab.kernel.accessAllowed ? 'block' : 'none';\n",
              "\n",
              "        async function convertToInteractive(key) {\n",
              "          const element = document.querySelector('#df-a6340289-d5e0-4307-a6bb-eff63dd07a91');\n",
              "          const dataTable =\n",
              "            await google.colab.kernel.invokeFunction('convertToInteractive',\n",
              "                                                     [key], {});\n",
              "          if (!dataTable) return;\n",
              "\n",
              "          const docLinkHtml = 'Like what you see? Visit the ' +\n",
              "            '<a target=\"_blank\" href=https://colab.research.google.com/notebooks/data_table.ipynb>data table notebook</a>'\n",
              "            + ' to learn more about interactive tables.';\n",
              "          element.innerHTML = '';\n",
              "          dataTable['output_type'] = 'display_data';\n",
              "          await google.colab.output.renderOutput(dataTable, element);\n",
              "          const docLink = document.createElement('div');\n",
              "          docLink.innerHTML = docLinkHtml;\n",
              "          element.appendChild(docLink);\n",
              "        }\n",
              "      </script>\n",
              "    </div>\n",
              "  </div>\n",
              "  "
            ]
          },
          "metadata": {},
          "execution_count": 520
        }
      ]
    },
    {
      "cell_type": "code",
      "source": [
        "rets_df.plot.bar(figsize=(12, 8))"
      ],
      "metadata": {
        "colab": {
          "base_uri": "https://localhost:8080/",
          "height": 492
        },
        "id": "KQsdbnUunban",
        "outputId": "f10cc212-1cc6-4ec5-df11-6cca1d048f0e"
      },
      "execution_count": 521,
      "outputs": [
        {
          "output_type": "execute_result",
          "data": {
            "text/plain": [
              "<Axes: >"
            ]
          },
          "metadata": {},
          "execution_count": 521
        },
        {
          "output_type": "display_data",
          "data": {
            "text/plain": [
              "<Figure size 1200x800 with 1 Axes>"
            ],
            "image/png": "[encoded data removed]"
          },
          "metadata": {}
        }
      ]
    },
    {
      "cell_type": "markdown",
      "source": [
        "To make sure that the calculations are correct, the posterior excess return should be the bayesian average between prior and our views. If it's not, the result may be not so accurate theoretically"
      ],
      "metadata": {
        "id": "KT5HJtSt0Zag"
      }
    },
    {
      "cell_type": "markdown",
      "source": [
        "## Update the posterior covarance matrix"
      ],
      "metadata": {
        "id": "mGcY647x0mMF"
      }
    },
    {
      "cell_type": "code",
      "source": [
        "_tau_sigma_P = tau * cov_matrix @ P.T\n",
        "_A = (P @ _tau_sigma_P) + omega\n",
        "\n",
        "b = _tau_sigma_P.T\n",
        "part1 = tau * cov_matrix \n",
        "part2 = _tau_sigma_P @ np.linalg.solve(_A, b)\n",
        "M = part1.values - part2.values\n",
        "posterior_cov = cov_matrix + M\n",
        "S_bl = pd.DataFrame(posterior_cov, index=tickers, columns=tickers)\n",
        "\n",
        "print(S_bl)"
      ],
      "metadata": {
        "colab": {
          "base_uri": "https://localhost:8080/"
        },
        "id": "o6ryyBdpc76D",
        "outputId": "751c7f92-0769-4432-88f2-c365457bd8ec"
      },
      "execution_count": 522,
      "outputs": [
        {
          "output_type": "stream",
          "name": "stdout",
          "text": [
            "           AAL      AAPL      AMZN       BAC      COST       DIS       DPZ  \\\n",
            "AAL   0.111129  0.014410  0.016698  0.034950  0.011405  0.016020  0.023509   \n",
            "AAPL  0.014410  0.151044  0.030627  0.029100  0.022523  0.027255  0.008708   \n",
            "AMZN  0.016698  0.030627  0.148567  0.025812  0.019090  0.022381  0.011284   \n",
            "BAC   0.034950  0.029100  0.025812  0.124921  0.021950  0.034461  0.015923   \n",
            "COST  0.011405  0.022523  0.019090  0.021950  0.064699  0.019269  0.006958   \n",
            "DIS   0.016020  0.027255  0.022381  0.034461  0.019269  0.106178  0.009460   \n",
            "DPZ   0.023509  0.008708  0.011284  0.015923  0.006958  0.009460  0.033796   \n",
            "GS    0.022788  0.019911  0.024002  0.038147  0.013849  0.019199  0.012238   \n",
            "JPM   0.028357  0.031983  0.028266  0.066162  0.023853  0.031962  0.015296   \n",
            "KO    0.008160  0.017234  0.007708  0.021680  0.012349  0.027019  0.004809   \n",
            "MSFT  0.011334  0.036384  0.027234  0.026094  0.021484  0.024929  0.008011   \n",
            "SBUX  0.018540  0.021001  0.025630  0.025040  0.017568  0.017603  0.012412   \n",
            "TSM   0.014730  0.027733  0.034015  0.023413  0.016722  0.020902  0.010222   \n",
            "\n",
            "            GS       JPM        KO      MSFT      SBUX       TSM  \n",
            "AAL   0.022788  0.028357  0.008160  0.011334  0.018540  0.014730  \n",
            "AAPL  0.019911  0.031983  0.017234  0.036384  0.021001  0.027733  \n",
            "AMZN  0.024002  0.028266  0.007708  0.027234  0.025630  0.034015  \n",
            "BAC   0.038147  0.066162  0.021680  0.026094  0.025040  0.023413  \n",
            "COST  0.013849  0.023853  0.012349  0.021484  0.017568  0.016722  \n",
            "DIS   0.019199  0.031962  0.027019  0.024929  0.017603  0.020902  \n",
            "DPZ   0.012238  0.015296  0.004809  0.008011  0.012412  0.010222  \n",
            "GS    0.050469  0.036347  0.006744  0.018518  0.017367  0.023548  \n",
            "JPM   0.036347  0.094102  0.018925  0.029289  0.023833  0.026953  \n",
            "KO    0.006744  0.018925  0.058208  0.016311  0.010009  0.006978  \n",
            "MSFT  0.018518  0.029289  0.016311  0.071201  0.019246  0.023184  \n",
            "SBUX  0.017367  0.023833  0.010009  0.019246  0.074802  0.019225  \n",
            "TSM   0.023548  0.026953  0.006978  0.023184  0.019225  0.081854  \n"
          ]
        }
      ]
    },
    {
      "cell_type": "markdown",
      "source": [
        "## Diversifications\n",
        "If you put assets that belongs to different sectors, that's good, we can cover each sectors with a percentage, you can find the description of these constraints [here](https://childlike-browser-849.notion.site/Operations-Research-Project-1658df813e6448f791aa0cf0ffc28733), there were only alpha, beta and gamma in the original exercise, now we scale it into a matrix"
      ],
      "metadata": {
        "id": "Rm7K4QBk0rzH"
      }
    },
    {
      "cell_type": "code",
      "source": [
        "#type_parameters = [0.2, 0.2, 0.2, 0.1, 0.0]\n",
        "type_constraints = pd.Series(sectors).unique().astype('U')\n",
        "type_parameters = [0.3 / len(type_constraints)]*len(type_constraints)\n",
        "constrains_param = [(i, j) for i, j in zip(type_constraints, type_parameters)] \n",
        "constrains_param"
      ],
      "metadata": {
        "colab": {
          "base_uri": "https://localhost:8080/"
        },
        "id": "rWh7r7FQtle3",
        "outputId": "c8e508d3-55bb-4ec1-dfa8-d09216b8eeb9"
      },
      "execution_count": 523,
      "outputs": [
        {
          "output_type": "execute_result",
          "data": {
            "text/plain": [
              "[('Technology', 0.049999999999999996),\n",
              " ('Consumer Cyclical', 0.049999999999999996),\n",
              " ('Financial Services', 0.049999999999999996),\n",
              " ('Communication Services', 0.049999999999999996),\n",
              " ('Consumer Defensive', 0.049999999999999996),\n",
              " ('Industrials', 0.049999999999999996)]"
            ]
          },
          "metadata": {},
          "execution_count": 523
        }
      ]
    },
    {
      "cell_type": "code",
      "source": [
        "constraints_table = pd.DataFrame(data=sectors, index=type_constraints)\n",
        "#constraints_table.loc['Technology'] = 1 if constraints_table.iloc[]\n",
        "for j in range(len(tickers)):\n",
        "  for i in range(len(type_constraints)):\n",
        "    constraints_table.iloc[i, j] = 1 if constraints_table.iloc[i, j] == constraints_table.index[i] else 0\n",
        "\n",
        "constraints_table"
      ],
      "metadata": {
        "colab": {
          "base_uri": "https://localhost:8080/",
          "height": 351
        },
        "id": "ouucBMocpooE",
        "outputId": "0cc01e99-4cef-4bc9-b285-8467185d7faf"
      },
      "execution_count": 524,
      "outputs": [
        {
          "output_type": "execute_result",
          "data": {
            "text/plain": [
              "                       MSFT AMZN BAC DPZ DIS KO JPM COST SBUX AAPL TSM GS AAL\n",
              "Technology                1    0   0   0   0  0   0    0    0    1   1  0   0\n",
              "Consumer Cyclical         0    1   0   1   0  0   0    0    1    0   0  0   0\n",
              "Financial Services        0    0   1   0   0  0   1    0    0    0   0  1   0\n",
              "Communication Services    0    0   0   0   1  0   0    0    0    0   0  0   0\n",
              "Consumer Defensive        0    0   0   0   0  1   0    1    0    0   0  0   0\n",
              "Industrials               0    0   0   0   0  0   0    0    0    0   0  0   1"
            ],
            "text/html": [
              "\n",
              "  <div id=\"df-8cef994a-e6bb-4b1e-87c3-da2a52f5ef0f\">\n",
              "    <div class=\"colab-df-container\">\n",
              "      <div>\n",
              "<style scoped>\n",
              "    .dataframe tbody tr th:only-of-type {\n",
              "        vertical-align: middle;\n",
              "    }\n",
              "\n",
              "    .dataframe tbody tr th {\n",
              "        vertical-align: top;\n",
              "    }\n",
              "\n",
              "    .dataframe thead th {\n",
              "        text-align: right;\n",
              "    }\n",
              "</style>\n",
              "<table border=\"1\" class=\"dataframe\">\n",
              "  <thead>\n",
              "    <tr style=\"text-align: right;\">\n",
              "      <th></th>\n",
              "      <th>MSFT</th>\n",
              "      <th>AMZN</th>\n",
              "      <th>BAC</th>\n",
              "      <th>DPZ</th>\n",
              "      <th>DIS</th>\n",
              "      <th>KO</th>\n",
              "      <th>JPM</th>\n",
              "      <th>COST</th>\n",
              "      <th>SBUX</th>\n",
              "      <th>AAPL</th>\n",
              "      <th>TSM</th>\n",
              "      <th>GS</th>\n",
              "      <th>AAL</th>\n",
              "    </tr>\n",
              "  </thead>\n",
              "  <tbody>\n",
              "    <tr>\n",
              "      <th>Technology</th>\n",
              "      <td>1</td>\n",
              "      <td>0</td>\n",
              "      <td>0</td>\n",
              "      <td>0</td>\n",
              "      <td>0</td>\n",
              "      <td>0</td>\n",
              "      <td>0</td>\n",
              "      <td>0</td>\n",
              "      <td>0</td>\n",
              "      <td>1</td>\n",
              "      <td>1</td>\n",
              "      <td>0</td>\n",
              "      <td>0</td>\n",
              "    </tr>\n",
              "    <tr>\n",
              "      <th>Consumer Cyclical</th>\n",
              "      <td>0</td>\n",
              "      <td>1</td>\n",
              "      <td>0</td>\n",
              "      <td>1</td>\n",
              "      <td>0</td>\n",
              "      <td>0</td>\n",
              "      <td>0</td>\n",
              "      <td>0</td>\n",
              "      <td>1</td>\n",
              "      <td>0</td>\n",
              "      <td>0</td>\n",
              "      <td>0</td>\n",
              "      <td>0</td>\n",
              "    </tr>\n",
              "    <tr>\n",
              "      <th>Financial Services</th>\n",
              "      <td>0</td>\n",
              "      <td>0</td>\n",
              "      <td>1</td>\n",
              "      <td>0</td>\n",
              "      <td>0</td>\n",
              "      <td>0</td>\n",
              "      <td>1</td>\n",
              "      <td>0</td>\n",
              "      <td>0</td>\n",
              "      <td>0</td>\n",
              "      <td>0</td>\n",
              "      <td>1</td>\n",
              "      <td>0</td>\n",
              "    </tr>\n",
              "    <tr>\n",
              "      <th>Communication Services</th>\n",
              "      <td>0</td>\n",
              "      <td>0</td>\n",
              "      <td>0</td>\n",
              "      <td>0</td>\n",
              "      <td>1</td>\n",
              "      <td>0</td>\n",
              "      <td>0</td>\n",
              "      <td>0</td>\n",
              "      <td>0</td>\n",
              "      <td>0</td>\n",
              "      <td>0</td>\n",
              "      <td>0</td>\n",
              "      <td>0</td>\n",
              "    </tr>\n",
              "    <tr>\n",
              "      <th>Consumer Defensive</th>\n",
              "      <td>0</td>\n",
              "      <td>0</td>\n",
              "      <td>0</td>\n",
              "      <td>0</td>\n",
              "      <td>0</td>\n",
              "      <td>1</td>\n",
              "      <td>0</td>\n",
              "      <td>1</td>\n",
              "      <td>0</td>\n",
              "      <td>0</td>\n",
              "      <td>0</td>\n",
              "      <td>0</td>\n",
              "      <td>0</td>\n",
              "    </tr>\n",
              "    <tr>\n",
              "      <th>Industrials</th>\n",
              "      <td>0</td>\n",
              "      <td>0</td>\n",
              "      <td>0</td>\n",
              "      <td>0</td>\n",
              "      <td>0</td>\n",
              "      <td>0</td>\n",
              "      <td>0</td>\n",
              "      <td>0</td>\n",
              "      <td>0</td>\n",
              "      <td>0</td>\n",
              "      <td>0</td>\n",
              "      <td>0</td>\n",
              "      <td>1</td>\n",
              "    </tr>\n",
              "  </tbody>\n",
              "</table>\n",
              "</div>\n",
              "      <button class=\"colab-df-convert\" onclick=\"convertToInteractive('df-8cef994a-e6bb-4b1e-87c3-da2a52f5ef0f')\"\n",
              "              title=\"Convert this dataframe to an interactive table.\"\n",
              "              style=\"display:none;\">\n",
              "        \n",
              "  <svg xmlns=\"http://www.w3.org/2000/svg\" height=\"24px\"viewBox=\"0 0 24 24\"\n",
              "       width=\"24px\">\n",
              "    <path d=\"M0 0h24v24H0V0z\" fill=\"none\"/>\n",
              "    <path d=\"M18.56 5.44l.94 2.06.94-2.06 2.06-.94-2.06-.94-.94-2.06-.94 2.06-2.06.94zm-11 1L8.5 8.5l.94-2.06 2.06-.94-2.06-.94L8.5 2.5l-.94 2.06-2.06.94zm10 10l.94 2.06.94-2.06 2.06-.94-2.06-.94-.94-2.06-.94 2.06-2.06.94z\"/><path d=\"M17.41 7.96l-1.37-1.37c-.4-.4-.92-.59-1.43-.59-.52 0-1.04.2-1.43.59L10.3 9.45l-7.72 7.72c-.78.78-.78 2.05 0 2.83L4 21.41c.39.39.9.59 1.41.59.51 0 1.02-.2 1.41-.59l7.78-7.78 2.81-2.81c.8-.78.8-2.07 0-2.86zM5.41 20L4 18.59l7.72-7.72 1.47 1.35L5.41 20z\"/>\n",
              "  </svg>\n",
              "      </button>\n",
              "      \n",
              "  <style>\n",
              "    .colab-df-container {\n",
              "      display:flex;\n",
              "      flex-wrap:wrap;\n",
              "      gap: 12px;\n",
              "    }\n",
              "\n",
              "    .colab-df-convert {\n",
              "      background-color: #E8F0FE;\n",
              "      border: none;\n",
              "      border-radius: 50%;\n",
              "      cursor: pointer;\n",
              "      display: none;\n",
              "      fill: #1967D2;\n",
              "      height: 32px;\n",
              "      padding: 0 0 0 0;\n",
              "      width: 32px;\n",
              "    }\n",
              "\n",
              "    .colab-df-convert:hover {\n",
              "      background-color: #E2EBFA;\n",
              "      box-shadow: 0px 1px 2px rgba(60, 64, 67, 0.3), 0px 1px 3px 1px rgba(60, 64, 67, 0.15);\n",
              "      fill: #174EA6;\n",
              "    }\n",
              "\n",
              "    [theme=dark] .colab-df-convert {\n",
              "      background-color: #3B4455;\n",
              "      fill: #D2E3FC;\n",
              "    }\n",
              "\n",
              "    [theme=dark] .colab-df-convert:hover {\n",
              "      background-color: #434B5C;\n",
              "      box-shadow: 0px 1px 3px 1px rgba(0, 0, 0, 0.15);\n",
              "      filter: drop-shadow(0px 1px 2px rgba(0, 0, 0, 0.3));\n",
              "      fill: #FFFFFF;\n",
              "    }\n",
              "  </style>\n",
              "\n",
              "      <script>\n",
              "        const buttonEl =\n",
              "          document.querySelector('#df-8cef994a-e6bb-4b1e-87c3-da2a52f5ef0f button.colab-df-convert');\n",
              "        buttonEl.style.display =\n",
              "          google.colab.kernel.accessAllowed ? 'block' : 'none';\n",
              "\n",
              "        async function convertToInteractive(key) {\n",
              "          const element = document.querySelector('#df-8cef994a-e6bb-4b1e-87c3-da2a52f5ef0f');\n",
              "          const dataTable =\n",
              "            await google.colab.kernel.invokeFunction('convertToInteractive',\n",
              "                                                     [key], {});\n",
              "          if (!dataTable) return;\n",
              "\n",
              "          const docLinkHtml = 'Like what you see? Visit the ' +\n",
              "            '<a target=\"_blank\" href=https://colab.research.google.com/notebooks/data_table.ipynb>data table notebook</a>'\n",
              "            + ' to learn more about interactive tables.';\n",
              "          element.innerHTML = '';\n",
              "          dataTable['output_type'] = 'display_data';\n",
              "          await google.colab.output.renderOutput(dataTable, element);\n",
              "          const docLink = document.createElement('div');\n",
              "          docLink.innerHTML = docLinkHtml;\n",
              "          element.appendChild(docLink);\n",
              "        }\n",
              "      </script>\n",
              "    </div>\n",
              "  </div>\n",
              "  "
            ]
          },
          "metadata": {},
          "execution_count": 524
        }
      ]
    },
    {
      "cell_type": "markdown",
      "source": [
        "You can check if they belongs to the right sector"
      ],
      "metadata": {
        "id": "_AvM2wQb1PeZ"
      }
    },
    {
      "cell_type": "markdown",
      "source": [
        "# Solve the optimization problem\n",
        "I used gurobi optimizer, you can use any commercial solver to solve this, the objective function is a typical formula derived from the theory of mean-variance optimization. The formula is \n",
        "\n",
        "$ max z = W_{t+1} = \\sum_{i=1}^N x_{i,t}r_{i, t+1} - x^TΣx \\\\s.t.\\quad \\\\  \\sum_{i=1}^N x_{i,t} = 1\\\\ \\sum_{i=1}^N x_{i,t}a_{i,t} \\ge \\alpha W_t \\\\\\sum_{i=1}^N x_{i,t}b_{i,t} \\ge \\beta W_t \\\\ \\sum_{i=1}^N x_{i,t}c_{i,t} \\ge \\gamma W_t  \\\\ x_{i,t} \\ge 0 \\quad \\forall i = 1...n $\n",
        "\n",
        "$r$ is the posterior excess returns we just calculated from the black litterman mdoel\n",
        "\n",
        "$Σ$ is the posterior covarience matrix"
      ],
      "metadata": {
        "id": "9-zMk9_31ULD"
      }
    },
    {
      "cell_type": "code",
      "source": [
        "import gurobipy as gp\n",
        "from gurobipy import GRB\n",
        "\n",
        "\n",
        "# Define the optimization problem\n",
        "r = rets_bl.to_numpy() # objective function coefficients\n",
        "\n",
        "# Create a Gurobi model\n",
        "model = gp.Model()\n",
        "x = model.addMVar(len(tickers))\n",
        "\n",
        "quad_objective = r.T @ x -  x.T @ S_bl.to_numpy() @ x\n",
        "# Set the objective function\n",
        "#model.setObjective(gp.quicksum(r[i]*x[i] for i in range(length)), sense=gp.GRB.MAXIMIZE)\n",
        "model.setObjective(quad_objective, GRB.MAXIMIZE);\n",
        "\n",
        "# Add constraints\n",
        "model.addConstr(gp.quicksum(x[i] for i in range(len(tickers))) == 1)\n",
        "for i in range(len(type_parameters)):\n",
        "  model.addConstr(gp.quicksum(x[j] * constraints_table.iloc[i, j] for j in range(len(tickers))) >= constrains_param[i][1])\n",
        "\n",
        "\n",
        "# Optimize the model\n",
        "model.optimize()\n",
        "\n",
        "# Extract the results\n",
        "weights = []\n",
        "if model.status == gp.GRB.OPTIMAL:\n",
        "    print(f\"Optimal objective value:{model.objVal}%\")\n",
        "    print(\"Optimal decision variables:\")\n",
        "    weights = [x[i].x.item() for i in range(len(tickers))]\n",
        "    \n",
        "weights_me = [round(w, 5) for w in weights]\n",
        "weights_me"
      ],
      "metadata": {
        "colab": {
          "base_uri": "https://localhost:8080/"
        },
        "id": "hLQUYwbIH3x3",
        "outputId": "c20c6ad1-5707-4349-ca81-edf2e447df68"
      },
      "execution_count": 525,
      "outputs": [
        {
          "output_type": "stream",
          "name": "stdout",
          "text": [
            "Warning for adding constraints: zero or small (< 1e-13) coefficients, ignored\n",
            "Gurobi Optimizer version 10.0.1 build v10.0.1rc0 (linux64)\n",
            "\n",
            "CPU model: AMD EPYC 7B12, instruction set [SSE2|AVX|AVX2]\n",
            "Thread count: 1 physical cores, 2 logical processors, using up to 2 threads\n",
            "\n",
            "Optimize a model with 7 rows, 13 columns and 26 nonzeros\n",
            "Model fingerprint: 0x9370e943\n",
            "Model has 91 quadratic objective terms\n",
            "Coefficient statistics:\n",
            "  Matrix range     [1e+00, 1e+00]\n",
            "  Objective range  [7e-02, 1e-01]\n",
            "  QObjective range [2e-02, 3e-01]\n",
            "  Bounds range     [0e+00, 0e+00]\n",
            "  RHS range        [5e-02, 1e+00]\n",
            "Presolve removed 2 rows and 0 columns\n",
            "Presolve time: 0.02s\n",
            "Presolved: 5 rows, 13 columns, 24 nonzeros\n",
            "Presolved model has 91 quadratic objective terms\n",
            "Ordering time: 0.00s\n",
            "\n",
            "Barrier statistics:\n",
            " Free vars  : 12\n",
            " AA' NZ     : 1.200e+02\n",
            " Factor NZ  : 1.530e+02\n",
            " Factor Ops : 1.785e+03 (less than 1 second per iteration)\n",
            " Threads    : 1\n",
            "\n",
            "                  Objective                Residual\n",
            "Iter       Primal          Dual         Primal    Dual     Compl     Time\n",
            "   0  -5.01640933e+05  5.03616216e+05  9.00e+03 2.53e-01  9.99e+05     0s\n",
            "   1  -3.05120355e+04  3.16414797e+04  1.66e+03 7.13e-05  1.92e+05     0s\n",
            "   2   1.16988955e+00  1.06776943e+03  5.97e+00 2.56e-07  7.64e+02     0s\n",
            "   3   7.81432344e-02  8.90027319e+02  5.97e-06 2.56e-13  5.24e+01     0s\n",
            "   4   7.81425874e-02  1.02299656e+00  3.69e-10 1.77e-13  5.56e-02     0s\n",
            "   5   7.89933375e-02  1.14845950e-01  9.66e-12 4.92e-15  2.11e-03     0s\n",
            "   6   8.27527090e-02  9.00550677e-02  5.55e-17 1.39e-17  4.30e-04     0s\n",
            "   7   8.34360219e-02  8.39882332e-02  5.64e-17 5.55e-17  3.25e-05     0s\n",
            "   8   8.35918482e-02  8.36257513e-02  5.61e-15 2.78e-17  1.99e-06     0s\n",
            "   9   8.36096701e-02  8.36111650e-02  1.94e-15 2.78e-17  8.79e-08     0s\n",
            "  10   8.36108422e-02  8.36109098e-02  2.85e-14 5.55e-17  3.98e-09     0s\n",
            "  11   8.36109058e-02  8.36109059e-02  6.37e-14 1.39e-17  8.58e-12     0s\n",
            "\n",
            "Barrier solved model in 11 iterations and 0.04 seconds (0.00 work units)\n",
            "Optimal objective 8.36109058e-02\n",
            "\n",
            "Optimal objective value:0.08361090579198362%\n",
            "Optimal decision variables:\n"
          ]
        },
        {
          "output_type": "execute_result",
          "data": {
            "text/plain": [
              "[0.05135,\n",
              " 0.19059,\n",
              " 0.1369,\n",
              " 0.07523,\n",
              " 0.05,\n",
              " 0.07443,\n",
              " 0.02484,\n",
              " 0.09097,\n",
              " 0.091,\n",
              " 0.0,\n",
              " 0.10498,\n",
              " 0.0,\n",
              " 0.10972]"
            ]
          },
          "metadata": {},
          "execution_count": 525
        }
      ]
    },
    {
      "cell_type": "code",
      "source": [
        "pd.Series(weights_me, tickers).plot.pie(figsize=(10,10), autopct='%1.1f%%');"
      ],
      "metadata": {
        "colab": {
          "base_uri": "https://localhost:8080/",
          "height": 683
        },
        "id": "7p5RW-YkWcQ3",
        "outputId": "bffd187b-a3a8-4dfc-d0eb-818c76489e6f"
      },
      "execution_count": 526,
      "outputs": [
        {
          "output_type": "display_data",
          "data": {
            "text/plain": [
              "<Figure size 1000x1000 with 1 Axes>"
            ],
            "image/png": "[encoded data removed]"
          },
          "metadata": {}
        }
      ]
    },
    {
      "cell_type": "markdown",
      "source": [
        "# Result & Comparison\n",
        "\n",
        "If I invested using the weights calculated from the model, that's amount of money I would have today, remember I had 1 dollar."
      ],
      "metadata": {
        "id": "Qc72FVGB3vb0"
      }
    },
    {
      "cell_type": "code",
      "source": [
        "bought_shares = weights_me / prices.iloc[-simulation_day: -simulation_day+1]\n",
        "value_today = prices.tail(1).to_numpy() * bought_shares.to_numpy()\n",
        "value_today = pd.Series(value_today.squeeze(), index=tickers)\n",
        "print(f'I would have {np.sum(prices.tail(1).to_numpy() * bought_shares.to_numpy())} today')"
      ],
      "metadata": {
        "colab": {
          "base_uri": "https://localhost:8080/"
        },
        "id": "or2EreCokN2x",
        "outputId": "95ffa89a-92c3-404a-e686-a356f82bfa15"
      },
      "execution_count": 527,
      "outputs": [
        {
          "output_type": "stream",
          "name": "stdout",
          "text": [
            "I would have 4.405464838769153 today\n"
          ]
        }
      ]
    },
    {
      "cell_type": "code",
      "source": [
        "print(weights_me)\n",
        "rets_today_df = pd.DataFrame([pd.Series(weights_me, index=tickers), value_today], \n",
        "             index=[f\"{simulation_day}days ago\", \"today\"]).T\n",
        "\n",
        "rets_today_df.plot.bar(figsize=(12, 8))"
      ],
      "metadata": {
        "colab": {
          "base_uri": "https://localhost:8080/",
          "height": 543
        },
        "id": "AD0dDS69po4i",
        "outputId": "98defa80-d0f4-4aec-ae94-8ce0cd58d0a5"
      },
      "execution_count": 528,
      "outputs": [
        {
          "output_type": "stream",
          "name": "stdout",
          "text": [
            "[0.05135, 0.19059, 0.1369, 0.07523, 0.05, 0.07443, 0.02484, 0.09097, 0.091, 0.0, 0.10498, 0.0, 0.10972]\n"
          ]
        },
        {
          "output_type": "execute_result",
          "data": {
            "text/plain": [
              "<Axes: >"
            ]
          },
          "metadata": {},
          "execution_count": 528
        },
        {
          "output_type": "display_data",
          "data": {
            "text/plain": [
              "<Figure size 1200x800 with 1 Axes>"
            ],
            "image/png": "[encoded data removed]"
          },
          "metadata": {}
        }
      ]
    },
    {
      "cell_type": "markdown",
      "source": [
        "You can clearly see which company in the long term made more money."
      ],
      "metadata": {
        "id": "kE8PCp8V4Fvk"
      }
    },
    {
      "cell_type": "markdown",
      "source": [
        "If invested a the same fraction for all assets equally, that's the amount of money I would have now, always had 1 dollar on the start"
      ],
      "metadata": {
        "id": "r2CoTpx94KQR"
      }
    },
    {
      "cell_type": "code",
      "source": [
        "bought_shares = [1 / len(tickers)]*len(tickers) / prices.iloc[-simulation_day:-simulation_day+1]\n",
        "value_today = prices.tail(1).to_numpy() * bought_shares.to_numpy()\n",
        "value_today = pd.Series(value_today.squeeze(), index=tickers)\n",
        "print(f'I would have {np.sum(prices.tail(1).to_numpy() * bought_shares.to_numpy())} today')"
      ],
      "metadata": {
        "colab": {
          "base_uri": "https://localhost:8080/"
        },
        "id": "-6KAN4Ldpowc",
        "outputId": "cb07aa81-4e02-40ca-952a-2499a6324483"
      },
      "execution_count": 529,
      "outputs": [
        {
          "output_type": "stream",
          "name": "stdout",
          "text": [
            "I would have 3.405369332731043 today\n"
          ]
        }
      ]
    },
    {
      "cell_type": "code",
      "source": [
        "print([1 / len(tickers)]*len(tickers))\n",
        "rets_today_df = pd.DataFrame([pd.Series([1 / len(tickers)]*len(tickers), index=tickers), value_today], \n",
        "             index=[f\"{simulation_day}days ago\", \"today\"]).T\n",
        "\n",
        "rets_today_df.plot.bar(figsize=(12, 8))"
      ],
      "metadata": {
        "colab": {
          "base_uri": "https://localhost:8080/",
          "height": 540
        },
        "id": "EkL7GtG3skrs",
        "outputId": "99623a92-c790-46dc-bf82-5330aac6bc03"
      },
      "execution_count": 530,
      "outputs": [
        {
          "output_type": "stream",
          "name": "stdout",
          "text": [
            "[0.07692307692307693, 0.07692307692307693, 0.07692307692307693, 0.07692307692307693, 0.07692307692307693, 0.07692307692307693, 0.07692307692307693, 0.07692307692307693, 0.07692307692307693, 0.07692307692307693, 0.07692307692307693, 0.07692307692307693, 0.07692307692307693]\n"
          ]
        },
        {
          "output_type": "execute_result",
          "data": {
            "text/plain": [
              "<Axes: >"
            ]
          },
          "metadata": {},
          "execution_count": 530
        },
        {
          "output_type": "display_data",
          "data": {
            "text/plain": [
              "<Figure size 1200x800 with 1 Axes>"
            ],
            "image/png": "[encoded data removed]"
          },
          "metadata": {}
        }
      ]
    },
    {
      "cell_type": "markdown",
      "source": [
        "# Conclusion\n",
        "- Since I am using analysts' view, some controversial stocks have really diverse views, so it might not be accurate, like tesla 3 years ago, it was the most shorted stock, but today it had a lot of gains.\n",
        "- View changes the output dramatically, even if I use low confidence, the output still tries to \"believe\" that your views are true and accurate.\n",
        "- If you don't know how to invest, the average in each stock equally actually beats the wrong model.  \n",
        "- Time span of investment is essential, you have to pick the right stocks for the long run.\n",
        "- Stocks with little historic data can be computed, but less accurate.\n",
        "- Fun fact, If you have fear, put the lowers target price, and the model will output more weight on defensive stocks; If you are greedy, the model tries to all in on those stocks with the most gains \n",
        "# Parameters are put to demonstrate a demo, don't trust the result you see on this page. No financial advice!!!!"
      ],
      "metadata": {
        "id": "hKMGt5jjHZKw"
      }
    }
  ]
}